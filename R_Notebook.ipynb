{
 "cells": [
  {
   "cell_type": "markdown",
   "metadata": {},
   "source": [
    "### Modelos Regressão Logistica e Árvore de decisão"
   ]
  },
  {
   "cell_type": "markdown",
   "metadata": {},
   "source": [
    "Import Base"
   ]
  },
  {
   "cell_type": "code",
   "execution_count": 1,
   "metadata": {},
   "outputs": [],
   "source": [
    "df = read.csv(\"C:\\\\Users\\\\Dani\\\\Documents\\\\TCC\\\\df_enem_r.csv\")"
   ]
  },
  {
   "cell_type": "code",
   "execution_count": 2,
   "metadata": {},
   "outputs": [
    {
     "data": {
      "text/html": [
       "<table>\n",
       "<thead><tr><th scope=col>SG_UF_RESIDENCIA</th><th scope=col>NU_IDADE</th><th scope=col>TP_SEXO</th><th scope=col>TP_ESTADO_CIVIL</th><th scope=col>TP_COR_RACA</th><th scope=col>TP_ESCOLA</th><th scope=col>TP_ENSINO</th><th scope=col>TP_LINGUA</th><th scope=col>TP_STATUS_REDACAO</th><th scope=col>Q001</th><th scope=col>...</th><th scope=col>Q018</th><th scope=col>Q019</th><th scope=col>Q020</th><th scope=col>Q021</th><th scope=col>Q022</th><th scope=col>Q023</th><th scope=col>Q024</th><th scope=col>Q025</th><th scope=col>Q027</th><th scope=col>Classificado</th></tr></thead>\n",
       "<tbody>\n",
       "\t<tr><td>MG </td><td>17 </td><td>M  </td><td>0  </td><td>1  </td><td>4  </td><td>1  </td><td>0  </td><td>1  </td><td>E  </td><td>...</td><td>B  </td><td>E  </td><td>B  </td><td>B  </td><td>E  </td><td>B  </td><td>D  </td><td>B  </td><td>D  </td><td>0  </td></tr>\n",
       "\t<tr><td>PI </td><td>17 </td><td>F  </td><td>0  </td><td>1  </td><td>4  </td><td>1  </td><td>0  </td><td>1  </td><td>E  </td><td>...</td><td>A  </td><td>D  </td><td>A  </td><td>B  </td><td>E  </td><td>A  </td><td>D  </td><td>B  </td><td>D  </td><td>0  </td></tr>\n",
       "\t<tr><td>BA </td><td>23 </td><td>M  </td><td>0  </td><td>1  </td><td>1  </td><td>1  </td><td>1  </td><td>1  </td><td>B  </td><td>...</td><td>A  </td><td>B  </td><td>A  </td><td>A  </td><td>B  </td><td>A  </td><td>B  </td><td>B  </td><td>D  </td><td>0  </td></tr>\n",
       "\t<tr><td>SP </td><td>18 </td><td>F  </td><td>0  </td><td>1  </td><td>4  </td><td>1  </td><td>0  </td><td>1  </td><td>F  </td><td>...</td><td>B  </td><td>D  </td><td>B  </td><td>B  </td><td>D  </td><td>B  </td><td>C  </td><td>B  </td><td>D  </td><td>0  </td></tr>\n",
       "\t<tr><td>PE </td><td>20 </td><td>F  </td><td>0  </td><td>3  </td><td>1  </td><td>1  </td><td>1  </td><td>1  </td><td>D  </td><td>...</td><td>A  </td><td>B  </td><td>A  </td><td>A  </td><td>C  </td><td>B  </td><td>B  </td><td>B  </td><td>A  </td><td>0  </td></tr>\n",
       "\t<tr><td>SP </td><td>20 </td><td>F  </td><td>0  </td><td>1  </td><td>1  </td><td>1  </td><td>1  </td><td>1  </td><td>C  </td><td>...</td><td>B  </td><td>C  </td><td>B  </td><td>B  </td><td>E  </td><td>B  </td><td>B  </td><td>B  </td><td>E  </td><td>0  </td></tr>\n",
       "</tbody>\n",
       "</table>\n"
      ],
      "text/latex": [
       "\\begin{tabular}{r|llllllllllllllllllllllllllllllllllll}\n",
       " SG\\_UF\\_RESIDENCIA & NU\\_IDADE & TP\\_SEXO & TP\\_ESTADO\\_CIVIL & TP\\_COR\\_RACA & TP\\_ESCOLA & TP\\_ENSINO & TP\\_LINGUA & TP\\_STATUS\\_REDACAO & Q001 & ... & Q018 & Q019 & Q020 & Q021 & Q022 & Q023 & Q024 & Q025 & Q027 & Classificado\\\\\n",
       "\\hline\n",
       "\t MG  & 17  & M   & 0   & 1   & 4   & 1   & 0   & 1   & E   & ... & B   & E   & B   & B   & E   & B   & D   & B   & D   & 0  \\\\\n",
       "\t PI  & 17  & F   & 0   & 1   & 4   & 1   & 0   & 1   & E   & ... & A   & D   & A   & B   & E   & A   & D   & B   & D   & 0  \\\\\n",
       "\t BA  & 23  & M   & 0   & 1   & 1   & 1   & 1   & 1   & B   & ... & A   & B   & A   & A   & B   & A   & B   & B   & D   & 0  \\\\\n",
       "\t SP  & 18  & F   & 0   & 1   & 4   & 1   & 0   & 1   & F   & ... & B   & D   & B   & B   & D   & B   & C   & B   & D   & 0  \\\\\n",
       "\t PE  & 20  & F   & 0   & 3   & 1   & 1   & 1   & 1   & D   & ... & A   & B   & A   & A   & C   & B   & B   & B   & A   & 0  \\\\\n",
       "\t SP  & 20  & F   & 0   & 1   & 1   & 1   & 1   & 1   & C   & ... & B   & C   & B   & B   & E   & B   & B   & B   & E   & 0  \\\\\n",
       "\\end{tabular}\n"
      ],
      "text/markdown": [
       "\n",
       "| SG_UF_RESIDENCIA | NU_IDADE | TP_SEXO | TP_ESTADO_CIVIL | TP_COR_RACA | TP_ESCOLA | TP_ENSINO | TP_LINGUA | TP_STATUS_REDACAO | Q001 | ... | Q018 | Q019 | Q020 | Q021 | Q022 | Q023 | Q024 | Q025 | Q027 | Classificado |\n",
       "|---|---|---|---|---|---|---|---|---|---|---|---|---|---|---|---|---|---|---|---|---|\n",
       "| MG  | 17  | M   | 0   | 1   | 4   | 1   | 0   | 1   | E   | ... | B   | E   | B   | B   | E   | B   | D   | B   | D   | 0   |\n",
       "| PI  | 17  | F   | 0   | 1   | 4   | 1   | 0   | 1   | E   | ... | A   | D   | A   | B   | E   | A   | D   | B   | D   | 0   |\n",
       "| BA  | 23  | M   | 0   | 1   | 1   | 1   | 1   | 1   | B   | ... | A   | B   | A   | A   | B   | A   | B   | B   | D   | 0   |\n",
       "| SP  | 18  | F   | 0   | 1   | 4   | 1   | 0   | 1   | F   | ... | B   | D   | B   | B   | D   | B   | C   | B   | D   | 0   |\n",
       "| PE  | 20  | F   | 0   | 3   | 1   | 1   | 1   | 1   | D   | ... | A   | B   | A   | A   | C   | B   | B   | B   | A   | 0   |\n",
       "| SP  | 20  | F   | 0   | 1   | 1   | 1   | 1   | 1   | C   | ... | B   | C   | B   | B   | E   | B   | B   | B   | E   | 0   |\n",
       "\n"
      ],
      "text/plain": [
       "  SG_UF_RESIDENCIA NU_IDADE TP_SEXO TP_ESTADO_CIVIL TP_COR_RACA TP_ESCOLA\n",
       "1 MG               17       M       0               1           4        \n",
       "2 PI               17       F       0               1           4        \n",
       "3 BA               23       M       0               1           1        \n",
       "4 SP               18       F       0               1           4        \n",
       "5 PE               20       F       0               3           1        \n",
       "6 SP               20       F       0               1           1        \n",
       "  TP_ENSINO TP_LINGUA TP_STATUS_REDACAO Q001 ... Q018 Q019 Q020 Q021 Q022 Q023\n",
       "1 1         0         1                 E    ... B    E    B    B    E    B   \n",
       "2 1         0         1                 E    ... A    D    A    B    E    A   \n",
       "3 1         1         1                 B    ... A    B    A    A    B    A   \n",
       "4 1         0         1                 F    ... B    D    B    B    D    B   \n",
       "5 1         1         1                 D    ... A    B    A    A    C    B   \n",
       "6 1         1         1                 C    ... B    C    B    B    E    B   \n",
       "  Q024 Q025 Q027 Classificado\n",
       "1 D    B    D    0           \n",
       "2 D    B    D    0           \n",
       "3 B    B    D    0           \n",
       "4 C    B    D    0           \n",
       "5 B    B    A    0           \n",
       "6 B    B    E    0           "
      ]
     },
     "metadata": {},
     "output_type": "display_data"
    }
   ],
   "source": [
    "head(df)"
   ]
  },
  {
   "cell_type": "code",
   "execution_count": 3,
   "metadata": {},
   "outputs": [
    {
     "data": {
      "text/html": [
       "<ol class=list-inline>\n",
       "\t<li>'SG_UF_RESIDENCIA'</li>\n",
       "\t<li>'NU_IDADE'</li>\n",
       "\t<li>'TP_SEXO'</li>\n",
       "\t<li>'TP_ESTADO_CIVIL'</li>\n",
       "\t<li>'TP_COR_RACA'</li>\n",
       "\t<li>'TP_ESCOLA'</li>\n",
       "\t<li>'TP_ENSINO'</li>\n",
       "\t<li>'TP_LINGUA'</li>\n",
       "\t<li>'TP_STATUS_REDACAO'</li>\n",
       "\t<li>'Q001'</li>\n",
       "\t<li>'Q002'</li>\n",
       "\t<li>'Q003'</li>\n",
       "\t<li>'Q004'</li>\n",
       "\t<li>'Q005'</li>\n",
       "\t<li>'Q006'</li>\n",
       "\t<li>'Q007'</li>\n",
       "\t<li>'Q008'</li>\n",
       "\t<li>'Q009'</li>\n",
       "\t<li>'Q010'</li>\n",
       "\t<li>'Q011'</li>\n",
       "\t<li>'Q012'</li>\n",
       "\t<li>'Q013'</li>\n",
       "\t<li>'Q014'</li>\n",
       "\t<li>'Q015'</li>\n",
       "\t<li>'Q016'</li>\n",
       "\t<li>'Q017'</li>\n",
       "\t<li>'Q018'</li>\n",
       "\t<li>'Q019'</li>\n",
       "\t<li>'Q020'</li>\n",
       "\t<li>'Q021'</li>\n",
       "\t<li>'Q022'</li>\n",
       "\t<li>'Q023'</li>\n",
       "\t<li>'Q024'</li>\n",
       "\t<li>'Q025'</li>\n",
       "\t<li>'Q027'</li>\n",
       "\t<li>'Classificado'</li>\n",
       "</ol>\n"
      ],
      "text/latex": [
       "\\begin{enumerate*}\n",
       "\\item 'SG\\_UF\\_RESIDENCIA'\n",
       "\\item 'NU\\_IDADE'\n",
       "\\item 'TP\\_SEXO'\n",
       "\\item 'TP\\_ESTADO\\_CIVIL'\n",
       "\\item 'TP\\_COR\\_RACA'\n",
       "\\item 'TP\\_ESCOLA'\n",
       "\\item 'TP\\_ENSINO'\n",
       "\\item 'TP\\_LINGUA'\n",
       "\\item 'TP\\_STATUS\\_REDACAO'\n",
       "\\item 'Q001'\n",
       "\\item 'Q002'\n",
       "\\item 'Q003'\n",
       "\\item 'Q004'\n",
       "\\item 'Q005'\n",
       "\\item 'Q006'\n",
       "\\item 'Q007'\n",
       "\\item 'Q008'\n",
       "\\item 'Q009'\n",
       "\\item 'Q010'\n",
       "\\item 'Q011'\n",
       "\\item 'Q012'\n",
       "\\item 'Q013'\n",
       "\\item 'Q014'\n",
       "\\item 'Q015'\n",
       "\\item 'Q016'\n",
       "\\item 'Q017'\n",
       "\\item 'Q018'\n",
       "\\item 'Q019'\n",
       "\\item 'Q020'\n",
       "\\item 'Q021'\n",
       "\\item 'Q022'\n",
       "\\item 'Q023'\n",
       "\\item 'Q024'\n",
       "\\item 'Q025'\n",
       "\\item 'Q027'\n",
       "\\item 'Classificado'\n",
       "\\end{enumerate*}\n"
      ],
      "text/markdown": [
       "1. 'SG_UF_RESIDENCIA'\n",
       "2. 'NU_IDADE'\n",
       "3. 'TP_SEXO'\n",
       "4. 'TP_ESTADO_CIVIL'\n",
       "5. 'TP_COR_RACA'\n",
       "6. 'TP_ESCOLA'\n",
       "7. 'TP_ENSINO'\n",
       "8. 'TP_LINGUA'\n",
       "9. 'TP_STATUS_REDACAO'\n",
       "10. 'Q001'\n",
       "11. 'Q002'\n",
       "12. 'Q003'\n",
       "13. 'Q004'\n",
       "14. 'Q005'\n",
       "15. 'Q006'\n",
       "16. 'Q007'\n",
       "17. 'Q008'\n",
       "18. 'Q009'\n",
       "19. 'Q010'\n",
       "20. 'Q011'\n",
       "21. 'Q012'\n",
       "22. 'Q013'\n",
       "23. 'Q014'\n",
       "24. 'Q015'\n",
       "25. 'Q016'\n",
       "26. 'Q017'\n",
       "27. 'Q018'\n",
       "28. 'Q019'\n",
       "29. 'Q020'\n",
       "30. 'Q021'\n",
       "31. 'Q022'\n",
       "32. 'Q023'\n",
       "33. 'Q024'\n",
       "34. 'Q025'\n",
       "35. 'Q027'\n",
       "36. 'Classificado'\n",
       "\n",
       "\n"
      ],
      "text/plain": [
       " [1] \"SG_UF_RESIDENCIA\"  \"NU_IDADE\"          \"TP_SEXO\"          \n",
       " [4] \"TP_ESTADO_CIVIL\"   \"TP_COR_RACA\"       \"TP_ESCOLA\"        \n",
       " [7] \"TP_ENSINO\"         \"TP_LINGUA\"         \"TP_STATUS_REDACAO\"\n",
       "[10] \"Q001\"              \"Q002\"              \"Q003\"             \n",
       "[13] \"Q004\"              \"Q005\"              \"Q006\"             \n",
       "[16] \"Q007\"              \"Q008\"              \"Q009\"             \n",
       "[19] \"Q010\"              \"Q011\"              \"Q012\"             \n",
       "[22] \"Q013\"              \"Q014\"              \"Q015\"             \n",
       "[25] \"Q016\"              \"Q017\"              \"Q018\"             \n",
       "[28] \"Q019\"              \"Q020\"              \"Q021\"             \n",
       "[31] \"Q022\"              \"Q023\"              \"Q024\"             \n",
       "[34] \"Q025\"              \"Q027\"              \"Classificado\"     "
      ]
     },
     "metadata": {},
     "output_type": "display_data"
    }
   ],
   "source": [
    "names(df)"
   ]
  },
  {
   "cell_type": "code",
   "execution_count": 4,
   "metadata": {},
   "outputs": [
    {
     "name": "stdout",
     "output_type": "stream",
     "text": [
      "'data.frame':\t1098311 obs. of  36 variables:\n",
      " $ SG_UF_RESIDENCIA : Factor w/ 27 levels \"AC\",\"AL\",\"AM\",..: 11 17 5 26 16 26 14 11 6 14 ...\n",
      " $ NU_IDADE         : num  17 17 23 18 20 20 20 24 18 19 ...\n",
      " $ TP_SEXO          : Factor w/ 2 levels \"F\",\"M\": 2 1 2 1 1 1 2 1 2 2 ...\n",
      " $ TP_ESTADO_CIVIL  : num  0 0 0 0 0 0 0 0 0 0 ...\n",
      " $ TP_COR_RACA      : int  1 1 1 1 3 1 3 3 3 3 ...\n",
      " $ TP_ESCOLA        : int  4 4 1 4 1 1 1 1 2 1 ...\n",
      " $ TP_ENSINO        : num  1 1 1 1 1 1 1 1 1 1 ...\n",
      " $ TP_LINGUA        : int  0 0 1 0 1 1 1 0 0 1 ...\n",
      " $ TP_STATUS_REDACAO: int  1 1 1 1 1 1 1 1 1 1 ...\n",
      " $ Q001             : Factor w/ 8 levels \"A\",\"B\",\"C\",\"D\",..: 5 5 2 6 4 3 5 2 8 4 ...\n",
      " $ Q002             : Factor w/ 8 levels \"A\",\"B\",\"C\",\"D\",..: 4 5 3 6 6 5 5 3 3 5 ...\n",
      " $ Q003             : Factor w/ 6 levels \"A\",\"B\",\"C\",\"D\",..: 4 5 2 5 2 2 6 3 1 3 ...\n",
      " $ Q004             : Factor w/ 6 levels \"A\",\"B\",\"C\",\"D\",..: 4 5 2 5 4 2 2 2 2 3 ...\n",
      " $ Q005             : int  4 4 4 2 3 5 4 9 4 4 ...\n",
      " $ Q006             : Factor w/ 5 levels \"CA\",\"CB\",\"CC\",..: 3 3 5 2 4 3 5 4 5 5 ...\n",
      " $ Q007             : Factor w/ 4 levels \"A\",\"B\",\"C\",\"D\": 2 2 1 2 1 1 1 1 1 1 ...\n",
      " $ Q008             : Factor w/ 5 levels \"A\",\"B\",\"C\",\"D\",..: 5 3 2 5 2 3 2 3 2 2 ...\n",
      " $ Q009             : Factor w/ 5 levels \"A\",\"B\",\"C\",\"D\",..: 5 4 3 5 4 4 3 5 3 3 ...\n",
      " $ Q010             : Factor w/ 5 levels \"A\",\"B\",\"C\",\"D\",..: 2 2 2 4 1 2 1 2 1 1 ...\n",
      " $ Q011             : Factor w/ 5 levels \"A\",\"B\",\"C\",\"D\",..: 1 1 1 1 1 1 1 1 1 2 ...\n",
      " $ Q012             : Factor w/ 5 levels \"A\",\"B\",\"C\",\"D\",..: 3 2 2 3 2 2 2 2 2 2 ...\n",
      " $ Q013             : Factor w/ 5 levels \"A\",\"B\",\"C\",\"D\",..: 3 2 1 3 2 1 1 2 1 2 ...\n",
      " $ Q014             : Factor w/ 5 levels \"A\",\"B\",\"C\",\"D\",..: 2 1 1 2 2 2 1 2 1 1 ...\n",
      " $ Q015             : Factor w/ 5 levels \"A\",\"B\",\"C\",\"D\",..: 1 1 1 2 2 1 1 1 1 1 ...\n",
      " $ Q016             : Factor w/ 5 levels \"A\",\"B\",\"C\",\"D\",..: 2 2 2 2 2 2 1 2 1 1 ...\n",
      " $ Q017             : Factor w/ 5 levels \"A\",\"B\",\"C\",\"D\",..: 1 1 1 2 1 1 1 1 1 1 ...\n",
      " $ Q018             : Factor w/ 2 levels \"A\",\"B\": 2 1 1 2 1 2 1 2 1 1 ...\n",
      " $ Q019             : Factor w/ 5 levels \"A\",\"B\",\"C\",\"D\",..: 5 4 2 4 2 3 3 4 2 3 ...\n",
      " $ Q020             : Factor w/ 2 levels \"A\",\"B\": 2 1 1 2 1 2 1 1 1 2 ...\n",
      " $ Q021             : Factor w/ 2 levels \"A\",\"B\": 2 2 1 2 1 2 1 2 1 1 ...\n",
      " $ Q022             : Factor w/ 5 levels \"A\",\"B\",\"C\",\"D\",..: 5 5 2 4 3 5 4 5 3 5 ...\n",
      " $ Q023             : Factor w/ 2 levels \"A\",\"B\": 2 1 1 2 2 2 1 1 1 1 ...\n",
      " $ Q024             : Factor w/ 5 levels \"A\",\"B\",\"C\",\"D\",..: 4 4 2 3 2 2 1 1 1 1 ...\n",
      " $ Q025             : Factor w/ 2 levels \"A\",\"B\": 2 2 2 2 2 2 1 2 2 2 ...\n",
      " $ Q027             : Factor w/ 6 levels \"A\",\"B\",\"C\",\"D\",..: 4 4 4 4 1 5 1 1 1 1 ...\n",
      " $ Classificado     : int  0 0 0 0 0 0 0 0 0 0 ...\n"
     ]
    }
   ],
   "source": [
    "#ver tipos dos dados\n",
    "str(df)"
   ]
  },
  {
   "cell_type": "code",
   "execution_count": 5,
   "metadata": {},
   "outputs": [],
   "source": [
    "##Converter para factor\n",
    "df$TP_ESTADO_CIVIL <-as.factor(df$TP_ESTADO_CIVIL)\n",
    "df$TP_COR_RACA <-as.factor(df$TP_COR_RACA)\n",
    "df$TP_ESCOLA <-as.factor(df$TP_ESCOLA)\n",
    "df$TP_ENSINO <-as.factor(df$TP_ENSINO)\n",
    "df$TP_LINGUA <-as.factor(df$TP_LINGUA)\n",
    "df$TP_STATUS_REDACAO <-as.factor(df$TP_STATUS_REDACAO)"
   ]
  },
  {
   "cell_type": "code",
   "execution_count": 6,
   "metadata": {},
   "outputs": [
    {
     "data": {
      "text/plain": [
       "\n",
       "     0      1 \n",
       "554684 543627 "
      ]
     },
     "metadata": {},
     "output_type": "display_data"
    }
   ],
   "source": [
    "#Verificar balanceamento (feito no python)\n",
    "table(df$Classificado)\n",
    "#table(treino$Classificado)\n",
    "#table(teste$Classificado)"
   ]
  },
  {
   "cell_type": "code",
   "execution_count": 7,
   "metadata": {},
   "outputs": [
    {
     "data": {
      "text/html": [
       "<dl class=dl-horizontal>\n",
       "\t<dt>SG_UF_RESIDENCIA</dt>\n",
       "\t\t<dd>FALSE</dd>\n",
       "\t<dt>NU_IDADE</dt>\n",
       "\t\t<dd>FALSE</dd>\n",
       "\t<dt>TP_SEXO</dt>\n",
       "\t\t<dd>FALSE</dd>\n",
       "\t<dt>TP_ESTADO_CIVIL</dt>\n",
       "\t\t<dd>FALSE</dd>\n",
       "\t<dt>TP_COR_RACA</dt>\n",
       "\t\t<dd>FALSE</dd>\n",
       "\t<dt>TP_ESCOLA</dt>\n",
       "\t\t<dd>FALSE</dd>\n",
       "\t<dt>TP_ENSINO</dt>\n",
       "\t\t<dd>FALSE</dd>\n",
       "\t<dt>TP_LINGUA</dt>\n",
       "\t\t<dd>FALSE</dd>\n",
       "\t<dt>TP_STATUS_REDACAO</dt>\n",
       "\t\t<dd>FALSE</dd>\n",
       "\t<dt>Q001</dt>\n",
       "\t\t<dd>FALSE</dd>\n",
       "\t<dt>Q002</dt>\n",
       "\t\t<dd>FALSE</dd>\n",
       "\t<dt>Q003</dt>\n",
       "\t\t<dd>FALSE</dd>\n",
       "\t<dt>Q004</dt>\n",
       "\t\t<dd>FALSE</dd>\n",
       "\t<dt>Q005</dt>\n",
       "\t\t<dd>FALSE</dd>\n",
       "\t<dt>Q006</dt>\n",
       "\t\t<dd>FALSE</dd>\n",
       "\t<dt>Q007</dt>\n",
       "\t\t<dd>FALSE</dd>\n",
       "\t<dt>Q008</dt>\n",
       "\t\t<dd>FALSE</dd>\n",
       "\t<dt>Q009</dt>\n",
       "\t\t<dd>FALSE</dd>\n",
       "\t<dt>Q010</dt>\n",
       "\t\t<dd>FALSE</dd>\n",
       "\t<dt>Q011</dt>\n",
       "\t\t<dd>FALSE</dd>\n",
       "\t<dt>Q012</dt>\n",
       "\t\t<dd>FALSE</dd>\n",
       "\t<dt>Q013</dt>\n",
       "\t\t<dd>FALSE</dd>\n",
       "\t<dt>Q014</dt>\n",
       "\t\t<dd>FALSE</dd>\n",
       "\t<dt>Q015</dt>\n",
       "\t\t<dd>FALSE</dd>\n",
       "\t<dt>Q016</dt>\n",
       "\t\t<dd>FALSE</dd>\n",
       "\t<dt>Q017</dt>\n",
       "\t\t<dd>FALSE</dd>\n",
       "\t<dt>Q018</dt>\n",
       "\t\t<dd>FALSE</dd>\n",
       "\t<dt>Q019</dt>\n",
       "\t\t<dd>FALSE</dd>\n",
       "\t<dt>Q020</dt>\n",
       "\t\t<dd>FALSE</dd>\n",
       "\t<dt>Q021</dt>\n",
       "\t\t<dd>FALSE</dd>\n",
       "\t<dt>Q022</dt>\n",
       "\t\t<dd>FALSE</dd>\n",
       "\t<dt>Q023</dt>\n",
       "\t\t<dd>FALSE</dd>\n",
       "\t<dt>Q024</dt>\n",
       "\t\t<dd>FALSE</dd>\n",
       "\t<dt>Q025</dt>\n",
       "\t\t<dd>FALSE</dd>\n",
       "\t<dt>Q027</dt>\n",
       "\t\t<dd>FALSE</dd>\n",
       "\t<dt>Classificado</dt>\n",
       "\t\t<dd>FALSE</dd>\n",
       "</dl>\n"
      ],
      "text/latex": [
       "\\begin{description*}\n",
       "\\item[SG\\textbackslash{}\\_UF\\textbackslash{}\\_RESIDENCIA] FALSE\n",
       "\\item[NU\\textbackslash{}\\_IDADE] FALSE\n",
       "\\item[TP\\textbackslash{}\\_SEXO] FALSE\n",
       "\\item[TP\\textbackslash{}\\_ESTADO\\textbackslash{}\\_CIVIL] FALSE\n",
       "\\item[TP\\textbackslash{}\\_COR\\textbackslash{}\\_RACA] FALSE\n",
       "\\item[TP\\textbackslash{}\\_ESCOLA] FALSE\n",
       "\\item[TP\\textbackslash{}\\_ENSINO] FALSE\n",
       "\\item[TP\\textbackslash{}\\_LINGUA] FALSE\n",
       "\\item[TP\\textbackslash{}\\_STATUS\\textbackslash{}\\_REDACAO] FALSE\n",
       "\\item[Q001] FALSE\n",
       "\\item[Q002] FALSE\n",
       "\\item[Q003] FALSE\n",
       "\\item[Q004] FALSE\n",
       "\\item[Q005] FALSE\n",
       "\\item[Q006] FALSE\n",
       "\\item[Q007] FALSE\n",
       "\\item[Q008] FALSE\n",
       "\\item[Q009] FALSE\n",
       "\\item[Q010] FALSE\n",
       "\\item[Q011] FALSE\n",
       "\\item[Q012] FALSE\n",
       "\\item[Q013] FALSE\n",
       "\\item[Q014] FALSE\n",
       "\\item[Q015] FALSE\n",
       "\\item[Q016] FALSE\n",
       "\\item[Q017] FALSE\n",
       "\\item[Q018] FALSE\n",
       "\\item[Q019] FALSE\n",
       "\\item[Q020] FALSE\n",
       "\\item[Q021] FALSE\n",
       "\\item[Q022] FALSE\n",
       "\\item[Q023] FALSE\n",
       "\\item[Q024] FALSE\n",
       "\\item[Q025] FALSE\n",
       "\\item[Q027] FALSE\n",
       "\\item[Classificado] FALSE\n",
       "\\end{description*}\n"
      ],
      "text/markdown": [
       "SG_UF_RESIDENCIA\n",
       ":   FALSENU_IDADE\n",
       ":   FALSETP_SEXO\n",
       ":   FALSETP_ESTADO_CIVIL\n",
       ":   FALSETP_COR_RACA\n",
       ":   FALSETP_ESCOLA\n",
       ":   FALSETP_ENSINO\n",
       ":   FALSETP_LINGUA\n",
       ":   FALSETP_STATUS_REDACAO\n",
       ":   FALSEQ001\n",
       ":   FALSEQ002\n",
       ":   FALSEQ003\n",
       ":   FALSEQ004\n",
       ":   FALSEQ005\n",
       ":   FALSEQ006\n",
       ":   FALSEQ007\n",
       ":   FALSEQ008\n",
       ":   FALSEQ009\n",
       ":   FALSEQ010\n",
       ":   FALSEQ011\n",
       ":   FALSEQ012\n",
       ":   FALSEQ013\n",
       ":   FALSEQ014\n",
       ":   FALSEQ015\n",
       ":   FALSEQ016\n",
       ":   FALSEQ017\n",
       ":   FALSEQ018\n",
       ":   FALSEQ019\n",
       ":   FALSEQ020\n",
       ":   FALSEQ021\n",
       ":   FALSEQ022\n",
       ":   FALSEQ023\n",
       ":   FALSEQ024\n",
       ":   FALSEQ025\n",
       ":   FALSEQ027\n",
       ":   FALSEClassificado\n",
       ":   FALSE\n",
       "\n"
      ],
      "text/plain": [
       " SG_UF_RESIDENCIA          NU_IDADE           TP_SEXO   TP_ESTADO_CIVIL \n",
       "            FALSE             FALSE             FALSE             FALSE \n",
       "      TP_COR_RACA         TP_ESCOLA         TP_ENSINO         TP_LINGUA \n",
       "            FALSE             FALSE             FALSE             FALSE \n",
       "TP_STATUS_REDACAO              Q001              Q002              Q003 \n",
       "            FALSE             FALSE             FALSE             FALSE \n",
       "             Q004              Q005              Q006              Q007 \n",
       "            FALSE             FALSE             FALSE             FALSE \n",
       "             Q008              Q009              Q010              Q011 \n",
       "            FALSE             FALSE             FALSE             FALSE \n",
       "             Q012              Q013              Q014              Q015 \n",
       "            FALSE             FALSE             FALSE             FALSE \n",
       "             Q016              Q017              Q018              Q019 \n",
       "            FALSE             FALSE             FALSE             FALSE \n",
       "             Q020              Q021              Q022              Q023 \n",
       "            FALSE             FALSE             FALSE             FALSE \n",
       "             Q024              Q025              Q027      Classificado \n",
       "            FALSE             FALSE             FALSE             FALSE "
      ]
     },
     "metadata": {},
     "output_type": "display_data"
    }
   ],
   "source": [
    "#verificar os missings (tratamento feito no python)\n",
    "apply(df, 2, function(x) any(is.na(x)))"
   ]
  },
  {
   "cell_type": "code",
   "execution_count": 8,
   "metadata": {},
   "outputs": [],
   "source": [
    "#Dividir em treino e teste\n",
    "set.seed(123)\n",
    "dt = sort(sample(nrow(df), nrow(df)*.7))\n",
    "treino<-df[dt,]\n",
    "teste<-df[-dt,]"
   ]
  },
  {
   "cell_type": "code",
   "execution_count": 9,
   "metadata": {},
   "outputs": [
    {
     "name": "stdout",
     "output_type": "stream",
     "text": [
      "package 'Information' successfully unpacked and MD5 sums checked\n",
      "\n",
      "The downloaded binary packages are in\n",
      "\tC:\\Users\\Dani\\AppData\\Local\\Temp\\Rtmp02CMYn\\downloaded_packages\n"
     ]
    },
    {
     "name": "stderr",
     "output_type": "stream",
     "text": [
      "Warning message:\n",
      "\"package 'Information' was built under R version 3.6.3\"Registered S3 methods overwritten by 'ggplot2':\n",
      "  method         from \n",
      "  [.quosures     rlang\n",
      "  c.quosures     rlang\n",
      "  print.quosures rlang\n"
     ]
    }
   ],
   "source": [
    "#Calcular o IV (Information Value)\n",
    "install.packages(\"Information\")\n",
    "library(Information)\n",
    "results=\"hide\""
   ]
  },
  {
   "cell_type": "code",
   "execution_count": 10,
   "metadata": {},
   "outputs": [
    {
     "name": "stdout",
     "output_type": "stream",
     "text": [
      "$Tables\n",
      "$Tables$SG_UF_RESIDENCIA\n",
      "   SG_UF_RESIDENCIA      N     Percent         WOE          IV\n",
      "1                AC   9839 0.008958301  0.55253954 0.002674703\n",
      "2                AL  22126 0.020145478  0.42303991 0.006234640\n",
      "3                AM  28019 0.025510989  0.53707568 0.013440391\n",
      "4                AP   9231 0.008404723  0.49810310 0.015488621\n",
      "5                BA  86841 0.079067769  0.19995748 0.018642659\n",
      "6                CE  72978 0.066445661  0.33154263 0.025892214\n",
      "7                DF  19735 0.017968499 -0.29800123 0.027473842\n",
      "8                ES  21299 0.019392504 -0.21123082 0.028334991\n",
      "9                GO  36167 0.032929653  0.08336308 0.028563796\n",
      "10               MA  56370 0.051324261  0.57011816 0.044853847\n",
      "11               MG 105749 0.096283293 -0.40090222 0.060094411\n",
      "12               MS  13437 0.012234240  0.10517565 0.060229692\n",
      "13               MT  19224 0.017503239  0.38363614 0.062779489\n",
      "14               PA  67545 0.061498974  0.35452160 0.070442603\n",
      "15               PB  34902 0.031777884  0.22091012 0.071988841\n",
      "16               PE  64742 0.058946874  0.20502266 0.074460530\n",
      "17               PI  30576 0.027839109  0.53626702 0.082300732\n",
      "18               PR  40493 0.036868428 -0.39822956 0.088060119\n",
      "19               RJ  67430 0.061394268 -0.40923994 0.098180566\n",
      "20               RN  27036 0.024615979  0.08466420 0.098356984\n",
      "21               RO  13514 0.012304347  0.43442620 0.100648224\n",
      "22               RR   2873 0.002615835  0.36962958 0.101002252\n",
      "23               RS  40071 0.036484202 -0.51768170 0.110542828\n",
      "24               SC  19437 0.017697173 -0.60953858 0.116902770\n",
      "25               SE  16031 0.014596048  0.19084364 0.117433277\n",
      "26               SP 160096 0.145765635 -0.45040639 0.146449488\n",
      "27               TO  12550 0.011426636  0.51916406 0.149469684\n",
      "\n",
      "$Tables$NU_IDADE\n",
      "  NU_IDADE      N     Percent         WOE           IV\n",
      "1  [10,16]  10386 0.009456338 -0.20651854 0.0004014687\n",
      "2  [17,17] 179767 0.163675862 -0.31894476 0.0168855538\n",
      "3  [18,18] 225557 0.205367150 -0.12645781 0.0201632451\n",
      "4  [19,19] 147053 0.133890128  0.01125402 0.0201802035\n",
      "5  [20,21] 167695 0.152684440  0.05542915 0.0206493206\n",
      "6  [22,24] 125619 0.114374708  0.06152023 0.0210821965\n",
      "7  [25,32] 127489 0.116077322  0.08486929 0.0219181333\n",
      "8  [33,87] 114745 0.104474052  0.51409137 0.0490057002\n",
      "\n",
      "$Tables$TP_SEXO\n",
      "  TP_SEXO      N   Percent         WOE          IV\n",
      "1       F 658675 0.5997163  0.08354129 0.004184835\n",
      "2       M 439636 0.4002837 -0.12538666 0.010465830\n",
      "\n",
      "$Tables$TP_ESTADO_CIVIL\n",
      "  TP_ESTADO_CIVIL      N    Percent         WOE           IV\n",
      "1               0 989724 0.90113274 -0.03086781 0.0008584176\n",
      "2               1  92830 0.08452069  0.26471683 0.0067546697\n",
      "3               2  13813 0.01257658  0.30216066 0.0078959905\n",
      "4               3   1944 0.00176999  1.08339374 0.0098010964\n",
      "\n",
      "$Tables$TP_COR_RACA\n",
      "  TP_COR_RACA      N     Percent         WOE           IV\n",
      "1           0  18834 0.017148148 -0.02447235 1.026818e-05\n",
      "2           1 341433 0.310870965 -0.47489313 6.866932e-02\n",
      "3           2 152678 0.139011628  0.19884062 7.415293e-02\n",
      "4           3 553207 0.503688846  0.22106996 9.869661e-02\n",
      "5           4  23807 0.021676010  0.01097820 9.869923e-02\n",
      "6           5   8352 0.007604403  0.85526140 1.039671e-01\n",
      "\n",
      "$Tables$TP_ESCOLA\n",
      "  TP_ESCOLA      N     Percent         WOE          IV\n",
      "1         1 722239 0.657590610 -0.08525977 0.004775235\n",
      "2         2 318913 0.290366754  0.44055911 0.060360304\n",
      "3         3   3381 0.003078363  0.10359091 0.060393326\n",
      "4         4  53778 0.048964273 -1.83605096 0.189798349\n",
      "\n",
      "$Tables$TP_ENSINO\n",
      "  TP_ENSINO       N     Percent         WOE          IV\n",
      "1         1 1019351 0.928107795 -0.06749613 0.004225167\n",
      "2         2    3953 0.003599163  0.59668538 0.005473519\n",
      "3         3   75007 0.068293043  0.94700501 0.062773489\n",
      "\n",
      "$Tables$TP_LINGUA\n",
      "  TP_LINGUA      N   Percent        WOE        IV\n",
      "1         0 452196 0.4117194 -0.4448870 0.0799951\n",
      "2         1 646115 0.5882806  0.3075862 0.1353022\n",
      "\n",
      "$Tables$TP_STATUS_REDACAO\n",
      "  TP_STATUS_REDACAO       N     Percent        WOE         IV\n",
      "1                 1 1037394 0.944535746 -0.1188473 0.01331762\n",
      "2                 2    3584 0.003263192  0.0000000 0.01331762\n",
      "3                 3   10352 0.009425381  0.0000000 0.01331762\n",
      "4                 4   18278 0.016641917  0.0000000 0.01331762\n",
      "5                 6   19711 0.017946647  0.0000000 0.01331762\n",
      "6                 7    1778 0.001618849  0.0000000 0.01331762\n",
      "7                 8    3786 0.003447111  0.0000000 0.01331762\n",
      "8                 9    3428 0.003121156  0.0000000 0.01331762\n",
      "\n",
      "$Tables$Q001\n",
      "  Q001      N    Percent         WOE         IV\n",
      "1    A  82840 0.07542490  0.91180517 0.05894931\n",
      "2    B 279589 0.25456269  0.40650998 0.10052994\n",
      "3    C 164048 0.14936389  0.10479514 0.10216963\n",
      "4    D 126725 0.11538171 -0.09848066 0.10328719\n",
      "5    E 252582 0.22997311 -0.47580627 0.15427082\n",
      "6    F  56772 0.05169028 -1.37359575 0.23838879\n",
      "7    G  29989 0.02730465 -1.59946076 0.29599122\n",
      "8    H 105766 0.09629877  0.34728516 0.30751012\n",
      "\n",
      "$Tables$Q002\n",
      "  Q002      N    Percent         WOE         IV\n",
      "1    A  58588 0.05334373  0.99937699 0.04947531\n",
      "2    B 217510 0.19804045  0.50429717 0.09892210\n",
      "3    C 163863 0.14919545  0.22574723 0.10650182\n",
      "4    D 149793 0.13638487  0.05297016 0.10688451\n",
      "5    E 326563 0.29733199 -0.30617728 0.13449980\n",
      "6    F  82989 0.07556057 -1.00453167 0.20459481\n",
      "7    G  58207 0.05299683 -1.16500116 0.26901894\n",
      "8    H  40798 0.03714613  0.75598233 0.28936579\n",
      "\n",
      "$Tables$Q003\n",
      "  Q003      N   Percent         WOE        IV\n",
      "1    A 289162 0.2632788  0.68782597 0.1202701\n",
      "2    B 241233 0.2196400  0.05531647 0.1209422\n",
      "3    C 252412 0.2298183 -0.18576158 0.1288425\n",
      "4    D 145840 0.1327857 -1.04076237 0.2603258\n",
      "5    E  36162 0.0329251 -1.71952830 0.3386016\n",
      "6    F 133502 0.1215521  0.22594924 0.3447880\n",
      "\n",
      "$Tables$Q004\n",
      "  Q004      N    Percent         WOE        IV\n",
      "1    A 241303 0.21970371  0.74844484 0.1180559\n",
      "2    B 482749 0.43953762  0.02438175 0.1183173\n",
      "3    C  72972 0.06644020 -0.22946705 0.1217964\n",
      "4    D 174533 0.15891036 -0.89490850 0.2406948\n",
      "5    E  23627 0.02151212 -1.71680804 0.2917055\n",
      "6    F 103127 0.09389599  0.09889439 0.2926235\n",
      "\n",
      "$Tables$Q005\n",
      "    Q005      N   Percent         WOE           IV\n",
      "1  [1,1]  27086 0.0246615 -0.09177348 0.0002074669\n",
      "2  [2,2] 125033 0.1138412 -0.08510203 0.0010310952\n",
      "3  [3,3] 262766 0.2392455 -0.12464114 0.0047407449\n",
      "4  [4,4] 346931 0.3158768 -0.10620751 0.0082986007\n",
      "5  [5,5] 194913 0.1774661  0.11371184 0.0105921477\n",
      "6 [6,20] 141582 0.1289088  0.43260357 0.0343986221\n",
      "\n",
      "$Tables$Q006\n",
      "  Q006      N     Percent        WOE         IV\n",
      "1   CA   5986 0.005450187 -2.9218446 0.02833907\n",
      "2   CB  18826 0.017140864 -2.4769180 0.09948664\n",
      "3   CC  95228 0.086704039 -1.4984934 0.26336667\n",
      "4   CD 193189 0.175896445 -0.6238019 0.32947551\n",
      "5   CE 785082 0.714808465  0.3581563 0.42036259\n",
      "\n",
      "$Tables$Q007\n",
      "  Q007       N     Percent         WOE           IV\n",
      "1    A 1041217 0.948016545  0.03190429 0.0009650436\n",
      "2    B   32022 0.029155676 -0.57792620 0.0104139720\n",
      "3    C    6542 0.005956419 -0.57526870 0.0123271416\n",
      "4    D   18530 0.016871360 -0.65067141 0.0192064779\n",
      "\n",
      "$Tables$Q008\n",
      "  Q008      N    Percent        WOE         IV\n",
      "1    A  15265 0.01389861  0.9662872 0.01210838\n",
      "2    B 834768 0.76004702  0.2020461 0.04306175\n",
      "3    C 191253 0.17413374 -0.5902631 0.10185976\n",
      "4    D  39982 0.03640317 -1.3389318 0.15851746\n",
      "5    E  17043 0.01551746 -2.0549570 0.20742861\n",
      "\n",
      "$Tables$Q009\n",
      "  Q009      N     Percent         WOE          IV\n",
      "1    A  10959 0.009978048  0.60154025 0.003515826\n",
      "2    B 164843 0.150087726  0.39006312 0.026110169\n",
      "3    C 572483 0.521239430  0.08097326 0.029527290\n",
      "4    D 305947 0.278561355 -0.31052927 0.056133479\n",
      "5    E  44079 0.040133441 -0.51814293 0.066646607\n",
      "\n",
      "$Tables$Q010\n",
      "  Q010      N     Percent        WOE         IV\n",
      "1    A 696591 0.634238390  0.3323465 0.06953178\n",
      "2    B 336395 0.306283921 -0.4778261 0.13799940\n",
      "3    C  55803 0.050808013 -1.2568097 0.20873237\n",
      "4    D   7731 0.007038990 -1.2620552 0.21860442\n",
      "5    E   1791 0.001630686 -1.2718200 0.22092285\n",
      "\n",
      "$Tables$Q011\n",
      "  Q011      N      Percent         WOE           IV\n",
      "1    A 850364 0.7742470029 -0.02738277 0.0005804267\n",
      "2    B 224787 0.2046660736  0.09853399 0.0025668970\n",
      "3    C  20697 0.0188443892  0.04845041 0.0026111353\n",
      "4    D   2091 0.0019038323  0.10339707 0.0026314815\n",
      "5    E    372 0.0003387019 -0.21753642 0.0026474293\n",
      "\n",
      "$Tables$Q012\n",
      "  Q012       N      Percent          WOE         IV\n",
      "1    A   23773 0.0216450532  0.742450091 0.01145292\n",
      "2    B 1039403 0.9463649185  0.005243717 0.01147894\n",
      "3    C   32838 0.0298986353 -0.653751250 0.02378177\n",
      "4    D    1913 0.0017417653 -0.802145844 0.02484196\n",
      "5    E     384 0.0003496277 -0.744188227 0.02502646\n",
      "\n",
      "$Tables$Q013\n",
      "  Q013      N      Percent        WOE         IV\n",
      "1    A 774282 0.7049751846  0.2355686 0.03898698\n",
      "2    B 306277 0.2788618160 -0.5543323 0.12232121\n",
      "3    C  15526 0.0141362510 -1.0307803 0.13607314\n",
      "4    D   1700 0.0015478312 -1.0722124 0.13769168\n",
      "5    E    526 0.0004789172 -0.6930412 0.13791219\n",
      "\n",
      "$Tables$Q014\n",
      "  Q014      N      Percent        WOE         IV\n",
      "1    A 513222 0.4672829463  0.4053264 0.07588836\n",
      "2    B 576741 0.5251162922 -0.3543898 0.14104214\n",
      "3    C   7816 0.0071163814 -0.4672848 0.14256485\n",
      "4    D    387 0.0003523592 -0.2030083 0.14257931\n",
      "5    E    145 0.0001320209 -0.3853299 0.14259864\n",
      "\n",
      "$Tables$Q015\n",
      "  Q015      N      Percent         WOE          IV\n",
      "1    A 993070 0.9041792352  0.04702317 0.001999407\n",
      "2    B 103947 0.0946425921 -0.45172286 0.020947370\n",
      "3    C   1054 0.0009596553 -0.52831557 0.021208487\n",
      "4    D    127 0.0001156321 -0.28134016 0.021217566\n",
      "5    E    113 0.0001028852 -0.46715989 0.021239569\n",
      "\n",
      "$Tables$Q016\n",
      "  Q016      N      Percent        WOE         IV\n",
      "1    A 610033 0.5554282894  0.3584788 0.07074808\n",
      "2    B 484455 0.4410909114 -0.4502857 0.15850572\n",
      "3    C   3487 0.0031748749 -0.7947332 0.16040448\n",
      "4    D    219 0.0001993971 -0.1906878 0.16041170\n",
      "5    E    117 0.0001065272 -0.3427703 0.16042408\n",
      "\n",
      "$Tables$Q017\n",
      "  Q017       N      Percent         WOE           IV\n",
      "1    A 1078097 9.815954e-01  0.01434167 0.0002019092\n",
      "2    B   19664 1.790385e-02 -0.82382300 0.0116643752\n",
      "3    C     345 3.141187e-04 -0.28956297 0.0116904927\n",
      "4    D     107 9.742231e-05 -0.26209724 0.0116971384\n",
      "5    E      98 8.922791e-05 -0.56765143 0.0117250644\n",
      "\n",
      "$Tables$Q018\n",
      "  Q018      N   Percent        WOE         IV\n",
      "1    A 940289 0.8561227  0.1541560 0.02032051\n",
      "2    B 158022 0.1438773 -0.9951644 0.15150093\n",
      "\n",
      "$Tables$Q019\n",
      "  Q019      N    Percent        WOE          IV\n",
      "1    A  49773 0.04531777  0.3969003 0.007060562\n",
      "2    B 803683 0.73174447  0.1850830 0.032078936\n",
      "3    C 180010 0.16389711 -0.5740278 0.084501234\n",
      "4    D  47201 0.04297599 -1.0383425 0.126874193\n",
      "5    E  17644 0.01606467 -1.5596709 0.159363908\n",
      "\n",
      "$Tables$Q020\n",
      "  Q020      N   Percent         WOE          IV\n",
      "1    A 691027 0.6291724  0.06068624 0.002317125\n",
      "2    B 407284 0.3708276 -0.10310909 0.006254042\n",
      "\n",
      "$Tables$Q021\n",
      "  Q021      N   Percent        WOE         IV\n",
      "1    A 889687 0.8100502  0.1562738 0.01975799\n",
      "2    B 208624 0.1899498 -0.6944722 0.10756142\n",
      "\n",
      "$Tables$Q022\n",
      "  Q022      N    Percent         WOE         IV\n",
      "1    A  28620 0.02605819  0.78442847 0.01531732\n",
      "2    B 283634 0.25824562  0.60020399 0.10591899\n",
      "3    C 345765 0.31481520  0.03873221 0.10639131\n",
      "4    D 269388 0.24527479 -0.35395347 0.13674970\n",
      "5    E 170904 0.15560620 -0.64629896 0.19937806\n",
      "\n",
      "$Tables$Q023\n",
      "  Q023      N   Percent        WOE         IV\n",
      "1    A 829578 0.7553216  0.2072804 0.03237048\n",
      "2    B 268733 0.2446784 -0.6636436 0.13601009\n",
      "\n",
      "$Tables$Q024\n",
      "  Q024      N     Percent        WOE        IV\n",
      "1    A 544353 0.495627377  0.5548323 0.1491825\n",
      "2    B 465939 0.424232299 -0.4003278 0.2161441\n",
      "3    C  64117 0.058377818 -1.3707860 0.3108073\n",
      "4    D  17122 0.015589391 -1.8848885 0.3537627\n",
      "5    E   6780 0.006173115 -2.1820155 0.3750692\n",
      "\n",
      "$Tables$Q025\n",
      "  Q025      N   Percent        WOE        IV\n",
      "1    A 348285 0.3171096  0.6653114 0.1358458\n",
      "2    B 750026 0.6828904 -0.3017183 0.1974518\n",
      "\n",
      "$Tables$Q027\n",
      "  Q027      N      Percent         WOE         IV\n",
      "1    A 905090 0.8240744197  0.22735915 0.04246404\n",
      "2    B  70224 0.0639381742 -0.57180950 0.06276119\n",
      "3    C  22706 0.0206735615 -0.68685094 0.07211694\n",
      "4    D  82920 0.0754977415 -2.11041712 0.31993717\n",
      "5    E  16891 0.0153790684 -1.58809542 0.35199685\n",
      "6    F    480 0.0004370347 -0.08830424 0.35200025\n",
      "\n",
      "\n",
      "$Summary\n",
      "            Variable          IV\n",
      "15              Q006 0.420362589\n",
      "33              Q024 0.375069179\n",
      "35              Q027 0.352000255\n",
      "12              Q003 0.344787986\n",
      "10              Q001 0.307510118\n",
      "13              Q004 0.292623515\n",
      "11              Q002 0.289365794\n",
      "19              Q010 0.220922852\n",
      "17              Q008 0.207428611\n",
      "31              Q022 0.199378058\n",
      "34              Q025 0.197451767\n",
      "6          TP_ESCOLA 0.189798349\n",
      "25              Q016 0.160424077\n",
      "28              Q019 0.159363908\n",
      "27              Q018 0.151500926\n",
      "1   SG_UF_RESIDENCIA 0.149469684\n",
      "23              Q014 0.142598637\n",
      "22              Q013 0.137912185\n",
      "32              Q023 0.136010095\n",
      "8          TP_LINGUA 0.135302163\n",
      "30              Q021 0.107561418\n",
      "5        TP_COR_RACA 0.103967055\n",
      "18              Q009 0.066646607\n",
      "7          TP_ENSINO 0.062773489\n",
      "2           NU_IDADE 0.049005700\n",
      "14              Q005 0.034398622\n",
      "21              Q012 0.025026461\n",
      "24              Q015 0.021239569\n",
      "16              Q007 0.019206478\n",
      "9  TP_STATUS_REDACAO 0.013317625\n",
      "26              Q017 0.011725064\n",
      "3            TP_SEXO 0.010465830\n",
      "4    TP_ESTADO_CIVIL 0.009801096\n",
      "29              Q020 0.006254042\n",
      "20              Q011 0.002647429\n",
      "\n",
      "attr(,\"class\")\n",
      "[1] \"Information\"\n"
     ]
    }
   ],
   "source": [
    "IV <- create_infotables(data=df,y=\"Classificado\", ncore=2)\n",
    "print(IV)"
   ]
  },
  {
   "attachments": {
    "IV_table.PNG": {
     "image/png": "[encoded data removed]"
    }
   },
   "cell_type": "markdown",
   "metadata": {},
   "source": [
    "\"IV Fracos Excluidos\"  \n",
    "(Levandado em consideração artigo publicado no SAS Global Forum de 2013, denominado “Variable Reduction in SAS by Using Weight of Evidence and Information Value“ e contido no material do professor Marcelo Fernandes)\n",
    "\n",
    "![IV_table.PNG](attachment:IV_table.PNG)\n",
    "Q009 0.066646607  \n",
    "TP_ENSINO 0.062773489  \n",
    "NU_IDADE 0.049005700  \n",
    "Q005 0.034398622  \n",
    "Q012 0.025026461  \n",
    "TP_ANO_CONCLUIU 0.024118214  \n",
    "Q015 0.021239569  \n",
    "Q007 0.019206478  \n",
    "TP_ST_CONCLUSAO 0.017006294  \n",
    "TP_STATUS_REDACAO 0.013317625  \n",
    "Q017 0.011725064  \n",
    "TP_SEXO 0.010465830  \n",
    "TP_ESTADO_CIVIL 0.009801096  \n",
    "Q020 0.006254042  \n",
    "Q011 0.002647429  "
   ]
  },
  {
   "cell_type": "markdown",
   "metadata": {},
   "source": [
    "#Modelo inicial\n",
    "#Todas as variaveis com IV médio e seleção backward\n",
    "options(scipen = 999)\n",
    "modelo1 <- glm(Classificado ~\n",
    "              +Q006\n",
    "              +Q024\n",
    "              +Q027\n",
    "              +Q003\n",
    "              +Q001\n",
    "              #+Q004_5\n",
    "              +Q002\n",
    "              #+Q010_6\n",
    "              +Q008\n",
    "              +Q022\n",
    "              +Q025\n",
    "              #+TP_ESCOLA_2\n",
    "              #+Q016_4\n",
    "              #+Q019_10\n",
    "              +Q018\n",
    "              #+SG_UF_RESIDENCIA_1\n",
    "              #+Q014_8\n",
    "              #+Q013_9\n",
    "              +Q023\n",
    "              +TP_LINGUA\n",
    "              +Q021,\n",
    "              #+TP_COR_RACA,_3\n",
    "              family=binomial(link=\"logit\"),data=treino)\n",
    "summary(modelo1)"
   ]
  },
  {
   "cell_type": "code",
   "execution_count": 11,
   "metadata": {},
   "outputs": [
    {
     "data": {
      "text/plain": [
       "\n",
       "Call:\n",
       "glm(formula = Classificado ~ +Q006 + Q024 + Q027 + Q003 + Q001 + \n",
       "    Q004 + Q002 + Q010 + Q008, family = binomial(link = \"logit\"), \n",
       "    data = treino)\n",
       "\n",
       "Deviance Residuals: \n",
       "    Min       1Q   Median       3Q      Max  \n",
       "-2.0062  -1.0793  -0.2673   1.0000   2.7788  \n",
       "\n",
       "Coefficients:\n",
       "             Estimate Std. Error z value             Pr(>|z|)    \n",
       "(Intercept)  0.394508   0.080935   4.874 0.000001091537577502 ***\n",
       "Q006CB       0.224914   0.080766   2.785              0.00536 ** \n",
       "Q006CC       0.620589   0.076566   8.105 0.000000000000000526 ***\n",
       "Q006CD       0.921369   0.076937  11.976 < 0.0000000000000002 ***\n",
       "Q006CE       1.341238   0.076982  17.423 < 0.0000000000000002 ***\n",
       "Q024B       -0.515175   0.005511 -93.480 < 0.0000000000000002 ***\n",
       "Q024C       -0.864927   0.013904 -62.205 < 0.0000000000000002 ***\n",
       "Q024D       -0.942467   0.030216 -31.191 < 0.0000000000000002 ***\n",
       "Q024E       -0.999687   0.053551 -18.668 < 0.0000000000000002 ***\n",
       "Q027B       -0.213615   0.010600 -20.152 < 0.0000000000000002 ***\n",
       "Q027C       -0.551910   0.017868 -30.889 < 0.0000000000000002 ***\n",
       "Q027D       -1.156443   0.015472 -74.746 < 0.0000000000000002 ***\n",
       "Q027E       -1.201944   0.026007 -46.217 < 0.0000000000000002 ***\n",
       "Q027F       -0.235967   0.115600  -2.041              0.04123 *  \n",
       "Q003B       -0.181912   0.008707 -20.893 < 0.0000000000000002 ***\n",
       "Q003C       -0.274457   0.008772 -31.288 < 0.0000000000000002 ***\n",
       "Q003D       -0.441222   0.011540 -38.235 < 0.0000000000000002 ***\n",
       "Q003E       -0.275034   0.024065 -11.429 < 0.0000000000000002 ***\n",
       "Q003F       -0.060926   0.010636  -5.728 0.000000010145909540 ***\n",
       "Q001B       -0.185236   0.011509 -16.095 < 0.0000000000000002 ***\n",
       "Q001C       -0.244127   0.012614 -19.354 < 0.0000000000000002 ***\n",
       "Q001D       -0.268585   0.013317 -20.169 < 0.0000000000000002 ***\n",
       "Q001E       -0.356756   0.012718 -28.052 < 0.0000000000000002 ***\n",
       "Q001F       -0.545779   0.018933 -28.827 < 0.0000000000000002 ***\n",
       "Q001G       -0.361019   0.025274 -14.284 < 0.0000000000000002 ***\n",
       "Q001H       -0.247815   0.014313 -17.314 < 0.0000000000000002 ***\n",
       "Q004B       -0.163754   0.008355 -19.599 < 0.0000000000000002 ***\n",
       "Q004C       -0.199493   0.012353 -16.149 < 0.0000000000000002 ***\n",
       "Q004D       -0.228568   0.011904 -19.201 < 0.0000000000000002 ***\n",
       "Q004E       -0.117643   0.028188  -4.174 0.000029991542363124 ***\n",
       "Q004F       -0.032508   0.011548  -2.815              0.00488 ** \n",
       "Q002B       -0.275074   0.013587 -20.245 < 0.0000000000000002 ***\n",
       "Q002C       -0.352673   0.014266 -24.721 < 0.0000000000000002 ***\n",
       "Q002D       -0.389789   0.014576 -26.742 < 0.0000000000000002 ***\n",
       "Q002E       -0.498259   0.014025 -35.526 < 0.0000000000000002 ***\n",
       "Q002F       -0.606517   0.017764 -34.143 < 0.0000000000000002 ***\n",
       "Q002G       -0.489356   0.020222 -24.199 < 0.0000000000000002 ***\n",
       "Q002H        0.133229   0.019481   6.839 0.000000000007977348 ***\n",
       "Q010B       -0.075377   0.006210 -12.138 < 0.0000000000000002 ***\n",
       "Q010C       -0.046879   0.015216  -3.081              0.00206 ** \n",
       "Q010D        0.243989   0.038790   6.290 0.000000000317549864 ***\n",
       "Q010E        0.441798   0.079128   5.583 0.000000023599592659 ***\n",
       "Q008B       -0.267947   0.022798 -11.753 < 0.0000000000000002 ***\n",
       "Q008C       -0.303479   0.023776 -12.764 < 0.0000000000000002 ***\n",
       "Q008D       -0.291840   0.028763 -10.146 < 0.0000000000000002 ***\n",
       "Q008E       -0.343821   0.041177  -8.350 < 0.0000000000000002 ***\n",
       "---\n",
       "Signif. codes:  0 '***' 0.001 '**' 0.01 '*' 0.05 '.' 0.1 ' ' 1\n",
       "\n",
       "(Dispersion parameter for binomial family taken to be 1)\n",
       "\n",
       "    Null deviance: 1065732  on 768816  degrees of freedom\n",
       "Residual deviance:  932907  on 768771  degrees of freedom\n",
       "AIC: 932999\n",
       "\n",
       "Number of Fisher Scoring iterations: 5\n"
      ]
     },
     "metadata": {},
     "output_type": "display_data"
    }
   ],
   "source": [
    "#Terceiro modelo IF > 0.2 \n",
    "options(scipen = 999)\n",
    "modelo <- glm(Classificado ~\n",
    "               +Q006\n",
    "               +Q024\n",
    "               +Q027\n",
    "               +Q003\n",
    "               +Q001\n",
    "               +Q004\n",
    "               +Q002\n",
    "               +Q010\n",
    "               +Q008,\n",
    "               #+Q022\n",
    "               #+Q025\n",
    "               #TP_ESCOLA\n",
    "               #+Q016\n",
    "               #+Q019\n",
    "               #+Q018\n",
    "               #+SG_UF_RESIDENCIA\n",
    "               #+Q014\n",
    "               #+Q013\n",
    "               #+Q023\n",
    "               #+TP_LINGUA\n",
    "               #+Q021\n",
    "               #+TP_COR_RACA,\n",
    "               family=binomial(link=\"logit\"),data=treino)\n",
    "summary(modelo)"
   ]
  },
  {
   "cell_type": "code",
   "execution_count": 12,
   "metadata": {},
   "outputs": [
    {
     "data": {
      "text/html": [
       "<dl class=dl-horizontal>\n",
       "\t<dt>(Intercept)</dt>\n",
       "\t\t<dd>0.394508418563048</dd>\n",
       "\t<dt>Q006CB</dt>\n",
       "\t\t<dd>0.224914179262783</dd>\n",
       "\t<dt>Q006CC</dt>\n",
       "\t\t<dd>0.620589043415873</dd>\n",
       "\t<dt>Q006CD</dt>\n",
       "\t\t<dd>0.921368990192239</dd>\n",
       "\t<dt>Q006CE</dt>\n",
       "\t\t<dd>1.34123823119033</dd>\n",
       "\t<dt>Q024B</dt>\n",
       "\t\t<dd>-0.515174725352014</dd>\n",
       "\t<dt>Q024C</dt>\n",
       "\t\t<dd>-0.864926503972307</dd>\n",
       "\t<dt>Q024D</dt>\n",
       "\t\t<dd>-0.942467426298947</dd>\n",
       "\t<dt>Q024E</dt>\n",
       "\t\t<dd>-0.999686864882033</dd>\n",
       "\t<dt>Q027B</dt>\n",
       "\t\t<dd>-0.213614989488892</dd>\n",
       "\t<dt>Q027C</dt>\n",
       "\t\t<dd>-0.551909981036573</dd>\n",
       "\t<dt>Q027D</dt>\n",
       "\t\t<dd>-1.15644301758802</dd>\n",
       "\t<dt>Q027E</dt>\n",
       "\t\t<dd>-1.20194407453665</dd>\n",
       "\t<dt>Q027F</dt>\n",
       "\t\t<dd>-0.235967157527887</dd>\n",
       "\t<dt>Q003B</dt>\n",
       "\t\t<dd>-0.181912298728257</dd>\n",
       "\t<dt>Q003C</dt>\n",
       "\t\t<dd>-0.274457447218771</dd>\n",
       "\t<dt>Q003D</dt>\n",
       "\t\t<dd>-0.441222462350769</dd>\n",
       "\t<dt>Q003E</dt>\n",
       "\t\t<dd>-0.275034041970586</dd>\n",
       "\t<dt>Q003F</dt>\n",
       "\t\t<dd>-0.060925542993714</dd>\n",
       "\t<dt>Q001B</dt>\n",
       "\t\t<dd>-0.185236322534808</dd>\n",
       "\t<dt>Q001C</dt>\n",
       "\t\t<dd>-0.244127253919915</dd>\n",
       "\t<dt>Q001D</dt>\n",
       "\t\t<dd>-0.268584833707195</dd>\n",
       "\t<dt>Q001E</dt>\n",
       "\t\t<dd>-0.356755615726722</dd>\n",
       "\t<dt>Q001F</dt>\n",
       "\t\t<dd>-0.545779109553103</dd>\n",
       "\t<dt>Q001G</dt>\n",
       "\t\t<dd>-0.361019281191863</dd>\n",
       "\t<dt>Q001H</dt>\n",
       "\t\t<dd>-0.247815031409877</dd>\n",
       "\t<dt>Q004B</dt>\n",
       "\t\t<dd>-0.163753691639451</dd>\n",
       "\t<dt>Q004C</dt>\n",
       "\t\t<dd>-0.19949281028755</dd>\n",
       "\t<dt>Q004D</dt>\n",
       "\t\t<dd>-0.228567983352662</dd>\n",
       "\t<dt>Q004E</dt>\n",
       "\t\t<dd>-0.117643436879665</dd>\n",
       "\t<dt>Q004F</dt>\n",
       "\t\t<dd>-0.0325079786678165</dd>\n",
       "\t<dt>Q002B</dt>\n",
       "\t\t<dd>-0.275074286831544</dd>\n",
       "\t<dt>Q002C</dt>\n",
       "\t\t<dd>-0.352672525051499</dd>\n",
       "\t<dt>Q002D</dt>\n",
       "\t\t<dd>-0.38978905337597</dd>\n",
       "\t<dt>Q002E</dt>\n",
       "\t\t<dd>-0.498258735990904</dd>\n",
       "\t<dt>Q002F</dt>\n",
       "\t\t<dd>-0.606517337184437</dd>\n",
       "\t<dt>Q002G</dt>\n",
       "\t\t<dd>-0.489355719260165</dd>\n",
       "\t<dt>Q002H</dt>\n",
       "\t\t<dd>0.133228659781154</dd>\n",
       "\t<dt>Q010B</dt>\n",
       "\t\t<dd>-0.0753772840123674</dd>\n",
       "\t<dt>Q010C</dt>\n",
       "\t\t<dd>-0.0468787117895045</dd>\n",
       "\t<dt>Q010D</dt>\n",
       "\t\t<dd>0.243989402844812</dd>\n",
       "\t<dt>Q010E</dt>\n",
       "\t\t<dd>0.441797631226269</dd>\n",
       "\t<dt>Q008B</dt>\n",
       "\t\t<dd>-0.267946600809464</dd>\n",
       "\t<dt>Q008C</dt>\n",
       "\t\t<dd>-0.303478743465567</dd>\n",
       "\t<dt>Q008D</dt>\n",
       "\t\t<dd>-0.291840337384929</dd>\n",
       "\t<dt>Q008E</dt>\n",
       "\t\t<dd>-0.343820917884456</dd>\n",
       "</dl>\n"
      ],
      "text/latex": [
       "\\begin{description*}\n",
       "\\item[(Intercept)] 0.394508418563048\n",
       "\\item[Q006CB] 0.224914179262783\n",
       "\\item[Q006CC] 0.620589043415873\n",
       "\\item[Q006CD] 0.921368990192239\n",
       "\\item[Q006CE] 1.34123823119033\n",
       "\\item[Q024B] -0.515174725352014\n",
       "\\item[Q024C] -0.864926503972307\n",
       "\\item[Q024D] -0.942467426298947\n",
       "\\item[Q024E] -0.999686864882033\n",
       "\\item[Q027B] -0.213614989488892\n",
       "\\item[Q027C] -0.551909981036573\n",
       "\\item[Q027D] -1.15644301758802\n",
       "\\item[Q027E] -1.20194407453665\n",
       "\\item[Q027F] -0.235967157527887\n",
       "\\item[Q003B] -0.181912298728257\n",
       "\\item[Q003C] -0.274457447218771\n",
       "\\item[Q003D] -0.441222462350769\n",
       "\\item[Q003E] -0.275034041970586\n",
       "\\item[Q003F] -0.060925542993714\n",
       "\\item[Q001B] -0.185236322534808\n",
       "\\item[Q001C] -0.244127253919915\n",
       "\\item[Q001D] -0.268584833707195\n",
       "\\item[Q001E] -0.356755615726722\n",
       "\\item[Q001F] -0.545779109553103\n",
       "\\item[Q001G] -0.361019281191863\n",
       "\\item[Q001H] -0.247815031409877\n",
       "\\item[Q004B] -0.163753691639451\n",
       "\\item[Q004C] -0.19949281028755\n",
       "\\item[Q004D] -0.228567983352662\n",
       "\\item[Q004E] -0.117643436879665\n",
       "\\item[Q004F] -0.0325079786678165\n",
       "\\item[Q002B] -0.275074286831544\n",
       "\\item[Q002C] -0.352672525051499\n",
       "\\item[Q002D] -0.38978905337597\n",
       "\\item[Q002E] -0.498258735990904\n",
       "\\item[Q002F] -0.606517337184437\n",
       "\\item[Q002G] -0.489355719260165\n",
       "\\item[Q002H] 0.133228659781154\n",
       "\\item[Q010B] -0.0753772840123674\n",
       "\\item[Q010C] -0.0468787117895045\n",
       "\\item[Q010D] 0.243989402844812\n",
       "\\item[Q010E] 0.441797631226269\n",
       "\\item[Q008B] -0.267946600809464\n",
       "\\item[Q008C] -0.303478743465567\n",
       "\\item[Q008D] -0.291840337384929\n",
       "\\item[Q008E] -0.343820917884456\n",
       "\\end{description*}\n"
      ],
      "text/markdown": [
       "(Intercept)\n",
       ":   0.394508418563048Q006CB\n",
       ":   0.224914179262783Q006CC\n",
       ":   0.620589043415873Q006CD\n",
       ":   0.921368990192239Q006CE\n",
       ":   1.34123823119033Q024B\n",
       ":   -0.515174725352014Q024C\n",
       ":   -0.864926503972307Q024D\n",
       ":   -0.942467426298947Q024E\n",
       ":   -0.999686864882033Q027B\n",
       ":   -0.213614989488892Q027C\n",
       ":   -0.551909981036573Q027D\n",
       ":   -1.15644301758802Q027E\n",
       ":   -1.20194407453665Q027F\n",
       ":   -0.235967157527887Q003B\n",
       ":   -0.181912298728257Q003C\n",
       ":   -0.274457447218771Q003D\n",
       ":   -0.441222462350769Q003E\n",
       ":   -0.275034041970586Q003F\n",
       ":   -0.060925542993714Q001B\n",
       ":   -0.185236322534808Q001C\n",
       ":   -0.244127253919915Q001D\n",
       ":   -0.268584833707195Q001E\n",
       ":   -0.356755615726722Q001F\n",
       ":   -0.545779109553103Q001G\n",
       ":   -0.361019281191863Q001H\n",
       ":   -0.247815031409877Q004B\n",
       ":   -0.163753691639451Q004C\n",
       ":   -0.19949281028755Q004D\n",
       ":   -0.228567983352662Q004E\n",
       ":   -0.117643436879665Q004F\n",
       ":   -0.0325079786678165Q002B\n",
       ":   -0.275074286831544Q002C\n",
       ":   -0.352672525051499Q002D\n",
       ":   -0.38978905337597Q002E\n",
       ":   -0.498258735990904Q002F\n",
       ":   -0.606517337184437Q002G\n",
       ":   -0.489355719260165Q002H\n",
       ":   0.133228659781154Q010B\n",
       ":   -0.0753772840123674Q010C\n",
       ":   -0.0468787117895045Q010D\n",
       ":   0.243989402844812Q010E\n",
       ":   0.441797631226269Q008B\n",
       ":   -0.267946600809464Q008C\n",
       ":   -0.303478743465567Q008D\n",
       ":   -0.291840337384929Q008E\n",
       ":   -0.343820917884456\n",
       "\n"
      ],
      "text/plain": [
       "(Intercept)      Q006CB      Q006CC      Q006CD      Q006CE       Q024B \n",
       " 0.39450842  0.22491418  0.62058904  0.92136899  1.34123823 -0.51517473 \n",
       "      Q024C       Q024D       Q024E       Q027B       Q027C       Q027D \n",
       "-0.86492650 -0.94246743 -0.99968686 -0.21361499 -0.55190998 -1.15644302 \n",
       "      Q027E       Q027F       Q003B       Q003C       Q003D       Q003E \n",
       "-1.20194407 -0.23596716 -0.18191230 -0.27445745 -0.44122246 -0.27503404 \n",
       "      Q003F       Q001B       Q001C       Q001D       Q001E       Q001F \n",
       "-0.06092554 -0.18523632 -0.24412725 -0.26858483 -0.35675562 -0.54577911 \n",
       "      Q001G       Q001H       Q004B       Q004C       Q004D       Q004E \n",
       "-0.36101928 -0.24781503 -0.16375369 -0.19949281 -0.22856798 -0.11764344 \n",
       "      Q004F       Q002B       Q002C       Q002D       Q002E       Q002F \n",
       "-0.03250798 -0.27507429 -0.35267253 -0.38978905 -0.49825874 -0.60651734 \n",
       "      Q002G       Q002H       Q010B       Q010C       Q010D       Q010E \n",
       "-0.48935572  0.13322866 -0.07537728 -0.04687871  0.24398940  0.44179763 \n",
       "      Q008B       Q008C       Q008D       Q008E \n",
       "-0.26794660 -0.30347874 -0.29184034 -0.34382092 "
      ]
     },
     "metadata": {},
     "output_type": "display_data"
    }
   ],
   "source": [
    "summary(modelo)$coefficients[,1]"
   ]
  },
  {
   "cell_type": "code",
   "execution_count": 13,
   "metadata": {},
   "outputs": [
    {
     "data": {
      "text/html": [
       "<dl class=dl-horizontal>\n",
       "\t<dt>(Intercept)</dt>\n",
       "\t\t<dd>1.4836546745304</dd>\n",
       "\t<dt>Q006CB</dt>\n",
       "\t\t<dd>1.2522152455448</dd>\n",
       "\t<dt>Q006CC</dt>\n",
       "\t\t<dd>1.86002335373143</dd>\n",
       "\t<dt>Q006CD</dt>\n",
       "\t\t<dd>2.51272793631637</dd>\n",
       "\t<dt>Q006CE</dt>\n",
       "\t\t<dd>3.82377529307091</dd>\n",
       "\t<dt>Q024B</dt>\n",
       "\t\t<dd>0.597396205236515</dd>\n",
       "\t<dt>Q024C</dt>\n",
       "\t\t<dd>0.421082499381111</dd>\n",
       "\t<dt>Q024D</dt>\n",
       "\t\t<dd>0.389665178095784</dd>\n",
       "\t<dt>Q024E</dt>\n",
       "\t\t<dd>0.367994655181486</dd>\n",
       "\t<dt>Q027B</dt>\n",
       "\t\t<dd>0.807659282482596</dd>\n",
       "\t<dt>Q027C</dt>\n",
       "\t\t<dd>0.575848898878331</dd>\n",
       "\t<dt>Q027D</dt>\n",
       "\t\t<dd>0.314603231200815</dd>\n",
       "\t<dt>Q027E</dt>\n",
       "\t\t<dd>0.300609236716169</dd>\n",
       "\t<dt>Q027F</dt>\n",
       "\t\t<dd>0.789806612708506</dd>\n",
       "\t<dt>Q003B</dt>\n",
       "\t\t<dd>0.833674451519338</dd>\n",
       "\t<dt>Q003C</dt>\n",
       "\t\t<dd>0.759984343008351</dd>\n",
       "\t<dt>Q003D</dt>\n",
       "\t\t<dd>0.643249591838395</dd>\n",
       "\t<dt>Q003E</dt>\n",
       "\t\t<dd>0.759546266333204</dd>\n",
       "\t<dt>Q003F</dt>\n",
       "\t\t<dd>0.940893293265842</dd>\n",
       "\t<dt>Q001B</dt>\n",
       "\t\t<dd>0.830907898387146</dd>\n",
       "\t<dt>Q001C</dt>\n",
       "\t\t<dd>0.783387938733656</dd>\n",
       "\t<dt>Q001D</dt>\n",
       "\t\t<dd>0.764460568034964</dd>\n",
       "\t<dt>Q001E</dt>\n",
       "\t\t<dd>0.699943532026124</dd>\n",
       "\t<dt>Q001F</dt>\n",
       "\t\t<dd>0.579390199006835</dd>\n",
       "\t<dt>Q001G</dt>\n",
       "\t\t<dd>0.696965560010634</dd>\n",
       "\t<dt>Q001H</dt>\n",
       "\t\t<dd>0.78050429870673</dd>\n",
       "\t<dt>Q004B</dt>\n",
       "\t\t<dd>0.848951099883918</dd>\n",
       "\t<dt>Q004C</dt>\n",
       "\t\t<dd>0.81914611021674</dd>\n",
       "\t<dt>Q004D</dt>\n",
       "\t\t<dd>0.795672202901776</dd>\n",
       "\t<dt>Q004E</dt>\n",
       "\t\t<dd>0.889012985352072</dd>\n",
       "\t<dt>Q004F</dt>\n",
       "\t\t<dd>0.968014726332552</dd>\n",
       "\t<dt>Q002B</dt>\n",
       "\t\t<dd>0.759515699114415</dd>\n",
       "\t<dt>Q002C</dt>\n",
       "\t\t<dd>0.702807307483707</dd>\n",
       "\t<dt>Q002D</dt>\n",
       "\t\t<dd>0.677199712425176</dd>\n",
       "\t<dt>Q002E</dt>\n",
       "\t\t<dd>0.607587709755321</dd>\n",
       "\t<dt>Q002F</dt>\n",
       "\t\t<dd>0.545246475905767</dd>\n",
       "\t<dt>Q002G</dt>\n",
       "\t\t<dd>0.613021224748109</dd>\n",
       "\t<dt>Q002H</dt>\n",
       "\t\t<dd>1.14251121482925</dd>\n",
       "\t<dt>Q010B</dt>\n",
       "\t\t<dd>0.92739352956428</dd>\n",
       "\t<dt>Q010C</dt>\n",
       "\t\t<dd>0.954203124161474</dd>\n",
       "\t<dt>Q010D</dt>\n",
       "\t\t<dd>1.27633080494218</dd>\n",
       "\t<dt>Q010E</dt>\n",
       "\t\t<dd>1.55550092376617</dd>\n",
       "\t<dt>Q008B</dt>\n",
       "\t\t<dd>0.764948627649786</dd>\n",
       "\t<dt>Q008C</dt>\n",
       "\t\t<dd>0.738245581507639</dd>\n",
       "\t<dt>Q008D</dt>\n",
       "\t\t<dd>0.746887776509538</dd>\n",
       "\t<dt>Q008E</dt>\n",
       "\t\t<dd>0.709055895910213</dd>\n",
       "</dl>\n"
      ],
      "text/latex": [
       "\\begin{description*}\n",
       "\\item[(Intercept)] 1.4836546745304\n",
       "\\item[Q006CB] 1.2522152455448\n",
       "\\item[Q006CC] 1.86002335373143\n",
       "\\item[Q006CD] 2.51272793631637\n",
       "\\item[Q006CE] 3.82377529307091\n",
       "\\item[Q024B] 0.597396205236515\n",
       "\\item[Q024C] 0.421082499381111\n",
       "\\item[Q024D] 0.389665178095784\n",
       "\\item[Q024E] 0.367994655181486\n",
       "\\item[Q027B] 0.807659282482596\n",
       "\\item[Q027C] 0.575848898878331\n",
       "\\item[Q027D] 0.314603231200815\n",
       "\\item[Q027E] 0.300609236716169\n",
       "\\item[Q027F] 0.789806612708506\n",
       "\\item[Q003B] 0.833674451519338\n",
       "\\item[Q003C] 0.759984343008351\n",
       "\\item[Q003D] 0.643249591838395\n",
       "\\item[Q003E] 0.759546266333204\n",
       "\\item[Q003F] 0.940893293265842\n",
       "\\item[Q001B] 0.830907898387146\n",
       "\\item[Q001C] 0.783387938733656\n",
       "\\item[Q001D] 0.764460568034964\n",
       "\\item[Q001E] 0.699943532026124\n",
       "\\item[Q001F] 0.579390199006835\n",
       "\\item[Q001G] 0.696965560010634\n",
       "\\item[Q001H] 0.78050429870673\n",
       "\\item[Q004B] 0.848951099883918\n",
       "\\item[Q004C] 0.81914611021674\n",
       "\\item[Q004D] 0.795672202901776\n",
       "\\item[Q004E] 0.889012985352072\n",
       "\\item[Q004F] 0.968014726332552\n",
       "\\item[Q002B] 0.759515699114415\n",
       "\\item[Q002C] 0.702807307483707\n",
       "\\item[Q002D] 0.677199712425176\n",
       "\\item[Q002E] 0.607587709755321\n",
       "\\item[Q002F] 0.545246475905767\n",
       "\\item[Q002G] 0.613021224748109\n",
       "\\item[Q002H] 1.14251121482925\n",
       "\\item[Q010B] 0.92739352956428\n",
       "\\item[Q010C] 0.954203124161474\n",
       "\\item[Q010D] 1.27633080494218\n",
       "\\item[Q010E] 1.55550092376617\n",
       "\\item[Q008B] 0.764948627649786\n",
       "\\item[Q008C] 0.738245581507639\n",
       "\\item[Q008D] 0.746887776509538\n",
       "\\item[Q008E] 0.709055895910213\n",
       "\\end{description*}\n"
      ],
      "text/markdown": [
       "(Intercept)\n",
       ":   1.4836546745304Q006CB\n",
       ":   1.2522152455448Q006CC\n",
       ":   1.86002335373143Q006CD\n",
       ":   2.51272793631637Q006CE\n",
       ":   3.82377529307091Q024B\n",
       ":   0.597396205236515Q024C\n",
       ":   0.421082499381111Q024D\n",
       ":   0.389665178095784Q024E\n",
       ":   0.367994655181486Q027B\n",
       ":   0.807659282482596Q027C\n",
       ":   0.575848898878331Q027D\n",
       ":   0.314603231200815Q027E\n",
       ":   0.300609236716169Q027F\n",
       ":   0.789806612708506Q003B\n",
       ":   0.833674451519338Q003C\n",
       ":   0.759984343008351Q003D\n",
       ":   0.643249591838395Q003E\n",
       ":   0.759546266333204Q003F\n",
       ":   0.940893293265842Q001B\n",
       ":   0.830907898387146Q001C\n",
       ":   0.783387938733656Q001D\n",
       ":   0.764460568034964Q001E\n",
       ":   0.699943532026124Q001F\n",
       ":   0.579390199006835Q001G\n",
       ":   0.696965560010634Q001H\n",
       ":   0.78050429870673Q004B\n",
       ":   0.848951099883918Q004C\n",
       ":   0.81914611021674Q004D\n",
       ":   0.795672202901776Q004E\n",
       ":   0.889012985352072Q004F\n",
       ":   0.968014726332552Q002B\n",
       ":   0.759515699114415Q002C\n",
       ":   0.702807307483707Q002D\n",
       ":   0.677199712425176Q002E\n",
       ":   0.607587709755321Q002F\n",
       ":   0.545246475905767Q002G\n",
       ":   0.613021224748109Q002H\n",
       ":   1.14251121482925Q010B\n",
       ":   0.92739352956428Q010C\n",
       ":   0.954203124161474Q010D\n",
       ":   1.27633080494218Q010E\n",
       ":   1.55550092376617Q008B\n",
       ":   0.764948627649786Q008C\n",
       ":   0.738245581507639Q008D\n",
       ":   0.746887776509538Q008E\n",
       ":   0.709055895910213\n",
       "\n"
      ],
      "text/plain": [
       "(Intercept)      Q006CB      Q006CC      Q006CD      Q006CE       Q024B \n",
       "  1.4836547   1.2522152   1.8600234   2.5127279   3.8237753   0.5973962 \n",
       "      Q024C       Q024D       Q024E       Q027B       Q027C       Q027D \n",
       "  0.4210825   0.3896652   0.3679947   0.8076593   0.5758489   0.3146032 \n",
       "      Q027E       Q027F       Q003B       Q003C       Q003D       Q003E \n",
       "  0.3006092   0.7898066   0.8336745   0.7599843   0.6432496   0.7595463 \n",
       "      Q003F       Q001B       Q001C       Q001D       Q001E       Q001F \n",
       "  0.9408933   0.8309079   0.7833879   0.7644606   0.6999435   0.5793902 \n",
       "      Q001G       Q001H       Q004B       Q004C       Q004D       Q004E \n",
       "  0.6969656   0.7805043   0.8489511   0.8191461   0.7956722   0.8890130 \n",
       "      Q004F       Q002B       Q002C       Q002D       Q002E       Q002F \n",
       "  0.9680147   0.7595157   0.7028073   0.6771997   0.6075877   0.5452465 \n",
       "      Q002G       Q002H       Q010B       Q010C       Q010D       Q010E \n",
       "  0.6130212   1.1425112   0.9273935   0.9542031   1.2763308   1.5555009 \n",
       "      Q008B       Q008C       Q008D       Q008E \n",
       "  0.7649486   0.7382456   0.7468878   0.7090559 "
      ]
     },
     "metadata": {},
     "output_type": "display_data"
    }
   ],
   "source": [
    "exp(modelo$coefficients)"
   ]
  },
  {
   "cell_type": "code",
   "execution_count": 14,
   "metadata": {},
   "outputs": [
    {
     "name": "stdout",
     "output_type": "stream",
     "text": [
      "\n",
      "  There is a binary version available but the source version is later:\n",
      "    binary source needs_compilation\n",
      "car  3.0-9 3.0-10             FALSE\n",
      "\n"
     ]
    },
    {
     "name": "stderr",
     "output_type": "stream",
     "text": [
      "installing the source package 'car'\n",
      "\n",
      "Loading required package: carData\n",
      "Warning message:\n",
      "\"package 'carData' was built under R version 3.6.3\""
     ]
    },
    {
     "data": {
      "text/html": [
       "<table>\n",
       "<thead><tr><th></th><th scope=col>GVIF</th><th scope=col>Df</th><th scope=col>GVIF^(1/(2*Df))</th></tr></thead>\n",
       "<tbody>\n",
       "\t<tr><th scope=row>Q006</th><td>1.960854</td><td>4       </td><td>1.087817</td></tr>\n",
       "\t<tr><th scope=row>Q024</th><td>1.419992</td><td>4       </td><td>1.044806</td></tr>\n",
       "\t<tr><th scope=row>Q027</th><td>1.266426</td><td>5       </td><td>1.023901</td></tr>\n",
       "\t<tr><th scope=row>Q003</th><td>4.249687</td><td>5       </td><td>1.155675</td></tr>\n",
       "\t<tr><th scope=row>Q001</th><td>3.756114</td><td>7       </td><td>1.099139</td></tr>\n",
       "\t<tr><th scope=row>Q004</th><td>3.955078</td><td>5       </td><td>1.147402</td></tr>\n",
       "\t<tr><th scope=row>Q002</th><td>3.510955</td><td>7       </td><td>1.093853</td></tr>\n",
       "\t<tr><th scope=row>Q010</th><td>1.577208</td><td>4       </td><td>1.058610</td></tr>\n",
       "\t<tr><th scope=row>Q008</th><td>1.547500</td><td>4       </td><td>1.056097</td></tr>\n",
       "</tbody>\n",
       "</table>\n"
      ],
      "text/latex": [
       "\\begin{tabular}{r|lll}\n",
       "  & GVIF & Df & GVIF\\textasciicircum{}(1/(2*Df))\\\\\n",
       "\\hline\n",
       "\tQ006 & 1.960854 & 4        & 1.087817\\\\\n",
       "\tQ024 & 1.419992 & 4        & 1.044806\\\\\n",
       "\tQ027 & 1.266426 & 5        & 1.023901\\\\\n",
       "\tQ003 & 4.249687 & 5        & 1.155675\\\\\n",
       "\tQ001 & 3.756114 & 7        & 1.099139\\\\\n",
       "\tQ004 & 3.955078 & 5        & 1.147402\\\\\n",
       "\tQ002 & 3.510955 & 7        & 1.093853\\\\\n",
       "\tQ010 & 1.577208 & 4        & 1.058610\\\\\n",
       "\tQ008 & 1.547500 & 4        & 1.056097\\\\\n",
       "\\end{tabular}\n"
      ],
      "text/markdown": [
       "\n",
       "| <!--/--> | GVIF | Df | GVIF^(1/(2*Df)) |\n",
       "|---|---|---|---|\n",
       "| Q006 | 1.960854 | 4        | 1.087817 |\n",
       "| Q024 | 1.419992 | 4        | 1.044806 |\n",
       "| Q027 | 1.266426 | 5        | 1.023901 |\n",
       "| Q003 | 4.249687 | 5        | 1.155675 |\n",
       "| Q001 | 3.756114 | 7        | 1.099139 |\n",
       "| Q004 | 3.955078 | 5        | 1.147402 |\n",
       "| Q002 | 3.510955 | 7        | 1.093853 |\n",
       "| Q010 | 1.577208 | 4        | 1.058610 |\n",
       "| Q008 | 1.547500 | 4        | 1.056097 |\n",
       "\n"
      ],
      "text/plain": [
       "     GVIF     Df GVIF^(1/(2*Df))\n",
       "Q006 1.960854 4  1.087817       \n",
       "Q024 1.419992 4  1.044806       \n",
       "Q027 1.266426 5  1.023901       \n",
       "Q003 4.249687 5  1.155675       \n",
       "Q001 3.756114 7  1.099139       \n",
       "Q004 3.955078 5  1.147402       \n",
       "Q002 3.510955 7  1.093853       \n",
       "Q010 1.577208 4  1.058610       \n",
       "Q008 1.547500 4  1.056097       "
      ]
     },
     "metadata": {},
     "output_type": "display_data"
    }
   ],
   "source": [
    "#Calcular o VIF - Verificar possivel multicolineariedade\n",
    "#VIF>5 já revela sinais de multicolinearidade\n",
    "install.packages(\"car\")\n",
    "library(car)\n",
    "vif(modelo)"
   ]
  },
  {
   "cell_type": "markdown",
   "metadata": {},
   "source": [
    "Sem sinais de multicolineariedade no modelo"
   ]
  },
  {
   "cell_type": "code",
   "execution_count": 15,
   "metadata": {},
   "outputs": [
    {
     "name": "stderr",
     "output_type": "stream",
     "text": [
      "also installing the dependencies 'ellipsis', 'pillar', 'glue', 'tibble', 'dplyr', 'tidyselect', 'rlang', 'tidyr', 'ModelMetrics', 'recipes'\n",
      "\n"
     ]
    },
    {
     "name": "stdout",
     "output_type": "stream",
     "text": [
      "package 'ellipsis' successfully unpacked and MD5 sums checked\n"
     ]
    },
    {
     "name": "stderr",
     "output_type": "stream",
     "text": [
      "Warning message:\n",
      "\"cannot remove prior installation of package 'ellipsis'\"Warning message:\n",
      "\"restored 'ellipsis'\""
     ]
    },
    {
     "name": "stdout",
     "output_type": "stream",
     "text": [
      "package 'pillar' successfully unpacked and MD5 sums checked\n"
     ]
    },
    {
     "name": "stderr",
     "output_type": "stream",
     "text": [
      "Warning message:\n",
      "\"cannot remove prior installation of package 'pillar'\"Warning message:\n",
      "\"restored 'pillar'\""
     ]
    },
    {
     "name": "stdout",
     "output_type": "stream",
     "text": [
      "package 'glue' successfully unpacked and MD5 sums checked\n"
     ]
    },
    {
     "name": "stderr",
     "output_type": "stream",
     "text": [
      "Warning message:\n",
      "\"cannot remove prior installation of package 'glue'\"Warning message in file.copy(savedcopy, lib, recursive = TRUE):\n",
      "\"problem copying C:\\ProgramData\\Anaconda3\\Lib\\R\\library\\00LOCK\\glue\\libs\\x64\\glue.dll to C:\\ProgramData\\Anaconda3\\Lib\\R\\library\\glue\\libs\\x64\\glue.dll: Permission denied\"Warning message:\n",
      "\"restored 'glue'\""
     ]
    },
    {
     "name": "stdout",
     "output_type": "stream",
     "text": [
      "package 'tibble' successfully unpacked and MD5 sums checked\n"
     ]
    },
    {
     "name": "stderr",
     "output_type": "stream",
     "text": [
      "Warning message:\n",
      "\"cannot remove prior installation of package 'tibble'\"Warning message in file.copy(savedcopy, lib, recursive = TRUE):\n",
      "\"problem copying C:\\ProgramData\\Anaconda3\\Lib\\R\\library\\00LOCK\\tibble\\libs\\x64\\tibble.dll to C:\\ProgramData\\Anaconda3\\Lib\\R\\library\\tibble\\libs\\x64\\tibble.dll: Permission denied\"Warning message:\n",
      "\"restored 'tibble'\""
     ]
    },
    {
     "name": "stdout",
     "output_type": "stream",
     "text": [
      "package 'dplyr' successfully unpacked and MD5 sums checked\n"
     ]
    },
    {
     "name": "stderr",
     "output_type": "stream",
     "text": [
      "Warning message:\n",
      "\"cannot remove prior installation of package 'dplyr'\"Warning message in file.copy(savedcopy, lib, recursive = TRUE):\n",
      "\"problem copying C:\\ProgramData\\Anaconda3\\Lib\\R\\library\\00LOCK\\dplyr\\libs\\x64\\dplyr.dll to C:\\ProgramData\\Anaconda3\\Lib\\R\\library\\dplyr\\libs\\x64\\dplyr.dll: Permission denied\"Warning message:\n",
      "\"restored 'dplyr'\""
     ]
    },
    {
     "name": "stdout",
     "output_type": "stream",
     "text": [
      "package 'tidyselect' successfully unpacked and MD5 sums checked\n"
     ]
    },
    {
     "name": "stderr",
     "output_type": "stream",
     "text": [
      "Warning message:\n",
      "\"cannot remove prior installation of package 'tidyselect'\"Warning message in file.copy(savedcopy, lib, recursive = TRUE):\n",
      "\"problem copying C:\\ProgramData\\Anaconda3\\Lib\\R\\library\\00LOCK\\tidyselect\\libs\\x64\\tidyselect.dll to C:\\ProgramData\\Anaconda3\\Lib\\R\\library\\tidyselect\\libs\\x64\\tidyselect.dll: Permission denied\"Warning message:\n",
      "\"restored 'tidyselect'\""
     ]
    },
    {
     "name": "stdout",
     "output_type": "stream",
     "text": [
      "package 'rlang' successfully unpacked and MD5 sums checked\n"
     ]
    },
    {
     "name": "stderr",
     "output_type": "stream",
     "text": [
      "Warning message:\n",
      "\"cannot remove prior installation of package 'rlang'\"Warning message in file.copy(savedcopy, lib, recursive = TRUE):\n",
      "\"problem copying C:\\ProgramData\\Anaconda3\\Lib\\R\\library\\00LOCK\\rlang\\libs\\x64\\rlang.dll to C:\\ProgramData\\Anaconda3\\Lib\\R\\library\\rlang\\libs\\x64\\rlang.dll: Permission denied\"Warning message:\n",
      "\"restored 'rlang'\""
     ]
    },
    {
     "name": "stdout",
     "output_type": "stream",
     "text": [
      "package 'tidyr' successfully unpacked and MD5 sums checked\n"
     ]
    },
    {
     "name": "stderr",
     "output_type": "stream",
     "text": [
      "Warning message:\n",
      "\"cannot remove prior installation of package 'tidyr'\"Warning message:\n",
      "\"restored 'tidyr'\""
     ]
    },
    {
     "name": "stdout",
     "output_type": "stream",
     "text": [
      "package 'ModelMetrics' successfully unpacked and MD5 sums checked\n"
     ]
    },
    {
     "name": "stderr",
     "output_type": "stream",
     "text": [
      "Warning message:\n",
      "\"cannot remove prior installation of package 'ModelMetrics'\"Warning message:\n",
      "\"restored 'ModelMetrics'\""
     ]
    },
    {
     "name": "stdout",
     "output_type": "stream",
     "text": [
      "package 'recipes' successfully unpacked and MD5 sums checked\n"
     ]
    },
    {
     "name": "stderr",
     "output_type": "stream",
     "text": [
      "Warning message:\n",
      "\"cannot remove prior installation of package 'recipes'\"Warning message:\n",
      "\"restored 'recipes'\""
     ]
    },
    {
     "name": "stdout",
     "output_type": "stream",
     "text": [
      "package 'caret' successfully unpacked and MD5 sums checked\n"
     ]
    },
    {
     "name": "stderr",
     "output_type": "stream",
     "text": [
      "Warning message:\n",
      "\"cannot remove prior installation of package 'caret'\"Warning message:\n",
      "\"restored 'caret'\""
     ]
    },
    {
     "name": "stdout",
     "output_type": "stream",
     "text": [
      "\n",
      "The downloaded binary packages are in\n",
      "\tC:\\Users\\Dani\\AppData\\Local\\Temp\\Rtmp02CMYn\\downloaded_packages\n",
      "package 'e1071' successfully unpacked and MD5 sums checked\n",
      "\n",
      "The downloaded binary packages are in\n",
      "\tC:\\Users\\Dani\\AppData\\Local\\Temp\\Rtmp02CMYn\\downloaded_packages\n"
     ]
    },
    {
     "name": "stderr",
     "output_type": "stream",
     "text": [
      "Loading required package: lattice\n",
      "Loading required package: ggplot2\n",
      "Warning message:\n",
      "\"package 'e1071' was built under R version 3.6.3\""
     ]
    }
   ],
   "source": [
    "#Tabela de classificação\n",
    "install.packages(\"caret\")\n",
    "install.packages(\"e1071\")\n",
    "library(caret)\n",
    "library(e1071)"
   ]
  },
  {
   "cell_type": "code",
   "execution_count": 16,
   "metadata": {},
   "outputs": [],
   "source": [
    "#Probabilidade estimada - Treino\n",
    "#Calcula os valores preditos\n",
    "pred_treino = predict(modelo,treino, type = \"response\")\n",
    "#Cria uma nova base com a base original+valores preditos\n",
    "base_treino = cbind(treino, pred_treino)\n",
    "#Criar a resposta final usando o ponto de corte\n",
    "base_treino$resposta <- as.factor(ifelse(base_treino$pred>0.5, 1, 0))\n",
    "#View(base_treino)"
   ]
  },
  {
   "cell_type": "code",
   "execution_count": 17,
   "metadata": {},
   "outputs": [
    {
     "data": {
      "text/plain": [
       "Confusion Matrix and Statistics\n",
       "\n",
       "          Reference\n",
       "Prediction      0      1\n",
       "         0 237159 108372\n",
       "         1 151027 272259\n",
       "                                               \n",
       "               Accuracy : 0.6626               \n",
       "                 95% CI : (0.6615, 0.6637)     \n",
       "    No Information Rate : 0.5049               \n",
       "    P-Value [Acc > NIR] : < 0.00000000000000022\n",
       "                                               \n",
       "                  Kappa : 0.3259               \n",
       "                                               \n",
       " Mcnemar's Test P-Value : < 0.00000000000000022\n",
       "                                               \n",
       "            Sensitivity : 0.6109               \n",
       "            Specificity : 0.7153               \n",
       "         Pos Pred Value : 0.6864               \n",
       "         Neg Pred Value : 0.6432               \n",
       "             Prevalence : 0.5049               \n",
       "         Detection Rate : 0.3085               \n",
       "   Detection Prevalence : 0.4494               \n",
       "      Balanced Accuracy : 0.6631               \n",
       "                                               \n",
       "       'Positive' Class : 0                    \n",
       "                                               "
      ]
     },
     "metadata": {},
     "output_type": "display_data"
    }
   ],
   "source": [
    "#Treino\n",
    "base_treino$Classificado <- as.factor(base_treino$Classificado) #Formatar Classificado em factor\n",
    "confusionMatrix(base_treino$resposta,base_treino$Classificado)"
   ]
  },
  {
   "cell_type": "code",
   "execution_count": 18,
   "metadata": {},
   "outputs": [],
   "source": [
    "#Probabilidade estimada - Teste\n",
    "#Calcula os valores preditos\n",
    "pred_teste = predict(modelo,teste, type = \"response\")\n",
    "#Cria uma nova base com a base original+valores preditos\n",
    "base_teste = cbind(teste, pred_teste)\n",
    "#Criar a resposta final usando o ponto de corte\n",
    "base_teste$resposta <- as.factor(ifelse(base_teste$pred>0.5, 1, 0))\n",
    "#View(base_treino)"
   ]
  },
  {
   "cell_type": "code",
   "execution_count": 19,
   "metadata": {},
   "outputs": [
    {
     "data": {
      "text/plain": [
       "Confusion Matrix and Statistics\n",
       "\n",
       "          Reference\n",
       "Prediction      0      1\n",
       "         0 101980  46430\n",
       "         1  64518 116566\n",
       "                                               \n",
       "               Accuracy : 0.6633               \n",
       "                 95% CI : (0.6617, 0.6649)     \n",
       "    No Information Rate : 0.5053               \n",
       "    P-Value [Acc > NIR] : < 0.00000000000000022\n",
       "                                               \n",
       "                  Kappa : 0.3273               \n",
       "                                               \n",
       " Mcnemar's Test P-Value : < 0.00000000000000022\n",
       "                                               \n",
       "            Sensitivity : 0.6125               \n",
       "            Specificity : 0.7151               \n",
       "         Pos Pred Value : 0.6872               \n",
       "         Neg Pred Value : 0.6437               \n",
       "             Prevalence : 0.5053               \n",
       "         Detection Rate : 0.3095               \n",
       "   Detection Prevalence : 0.4504               \n",
       "      Balanced Accuracy : 0.6638               \n",
       "                                               \n",
       "       'Positive' Class : 0                    \n",
       "                                               "
      ]
     },
     "metadata": {},
     "output_type": "display_data"
    }
   ],
   "source": [
    "#Teste\n",
    "base_teste$Classificado <- as.factor(base_teste$Classificado) #Formatar Classificado em factor\n",
    "confusionMatrix(base_teste$resposta,base_teste$Classificado)"
   ]
  },
  {
   "cell_type": "markdown",
   "metadata": {},
   "source": [
    "#### Cálculo do AUC (Área sob a curva) e curva ROC"
   ]
  },
  {
   "cell_type": "code",
   "execution_count": 20,
   "metadata": {},
   "outputs": [
    {
     "name": "stdout",
     "output_type": "stream",
     "text": [
      "package 'ROCR' successfully unpacked and MD5 sums checked\n",
      "\n",
      "The downloaded binary packages are in\n",
      "\tC:\\Users\\Dani\\AppData\\Local\\Temp\\Rtmp02CMYn\\downloaded_packages\n",
      "package 'pROC' successfully unpacked and MD5 sums checked\n",
      "\n",
      "The downloaded binary packages are in\n",
      "\tC:\\Users\\Dani\\AppData\\Local\\Temp\\Rtmp02CMYn\\downloaded_packages\n"
     ]
    },
    {
     "name": "stderr",
     "output_type": "stream",
     "text": [
      "Warning message:\n",
      "\"package 'ROCR' was built under R version 3.6.3\"Warning message:\n",
      "\"package 'pROC' was built under R version 3.6.3\"Type 'citation(\"pROC\")' for a citation.\n",
      "\n",
      "Attaching package: 'pROC'\n",
      "\n",
      "The following objects are masked from 'package:stats':\n",
      "\n",
      "    cov, smooth, var\n",
      "\n"
     ]
    }
   ],
   "source": [
    "install.packages(\"ROCR\")\n",
    "install.packages(\"pROC\")\n",
    "library(ROCR)\n",
    "library(pROC)"
   ]
  },
  {
   "cell_type": "code",
   "execution_count": 21,
   "metadata": {},
   "outputs": [
    {
     "name": "stderr",
     "output_type": "stream",
     "text": [
      "Setting levels: control = 0, case = 1\n",
      "Setting direction: controls < cases\n"
     ]
    },
    {
     "data": {
      "text/html": [
       "0.723690504731236"
      ],
      "text/latex": [
       "0.723690504731236"
      ],
      "text/markdown": [
       "0.723690504731236"
      ],
      "text/plain": [
       "Area under the curve: 0.7237"
      ]
     },
     "metadata": {},
     "output_type": "display_data"
    }
   ],
   "source": [
    "#Treino\n",
    "ROCRpred<- prediction(pred_treino,base_treino$Classificado)\n",
    "ROCRperf <- performance(ROCRpred, \"tpr\",\"fpr\")\n",
    "roc_obj <- roc(base_treino$Classificado,base_treino$pred_treino)\n",
    "auc(roc_obj)"
   ]
  },
  {
   "cell_type": "code",
   "execution_count": 23,
   "metadata": {},
   "outputs": [
    {
     "name": "stderr",
     "output_type": "stream",
     "text": [
      "Setting levels: control = 0, case = 1\n",
      "Setting direction: controls < cases\n"
     ]
    },
    {
     "data": {
      "text/html": [
       "0.724662576281006"
      ],
      "text/latex": [
       "0.724662576281006"
      ],
      "text/markdown": [
       "0.724662576281006"
      ],
      "text/plain": [
       "Area under the curve: 0.7247"
      ]
     },
     "metadata": {},
     "output_type": "display_data"
    }
   ],
   "source": [
    "#Teste\n",
    "ROCRpred<- prediction(pred_teste,base_teste$Classificado)\n",
    "ROCRperf <- performance(ROCRpred, \"tpr\",\"fpr\")\n",
    "roc_obj <- roc(base_teste$Classificado,base_teste$pred_teste)\n",
    "auc(roc_obj)"
   ]
  },
  {
   "cell_type": "code",
   "execution_count": 24,
   "metadata": {},
   "outputs": [
    {
     "data": {
      "image/png": "[encoded data removed]",
      "text/plain": [
       "plot without title"
      ]
     },
     "metadata": {},
     "output_type": "display_data"
    }
   ],
   "source": [
    "plot(ROCRperf, colorize=TRUE, text.adj = c(-0.2,1.7))"
   ]
  },
  {
   "attachments": {
    "arvore_decidindo.PNG": {
     "image/png": "[encoded data removed]"
    }
   },
   "cell_type": "markdown",
   "metadata": {},
   "source": [
    "### *****Árvore  de decisão ***** \n",
    "![arvore_decidindo.PNG](attachment:arvore_decidindo.PNG)"
   ]
  },
  {
   "cell_type": "code",
   "execution_count": 25,
   "metadata": {},
   "outputs": [
    {
     "name": "stdout",
     "output_type": "stream",
     "text": [
      "package 'rpart' successfully unpacked and MD5 sums checked\n"
     ]
    },
    {
     "name": "stderr",
     "output_type": "stream",
     "text": [
      "Warning message:\n",
      "\"cannot remove prior installation of package 'rpart'\"Warning message in file.copy(savedcopy, lib, recursive = TRUE):\n",
      "\"problem copying C:\\ProgramData\\Anaconda3\\Lib\\R\\library\\00LOCK\\rpart\\libs\\x64\\rpart.dll to C:\\ProgramData\\Anaconda3\\Lib\\R\\library\\rpart\\libs\\x64\\rpart.dll: Permission denied\"Warning message:\n",
      "\"restored 'rpart'\""
     ]
    },
    {
     "name": "stdout",
     "output_type": "stream",
     "text": [
      "\n",
      "The downloaded binary packages are in\n",
      "\tC:\\Users\\Dani\\AppData\\Local\\Temp\\Rtmp02CMYn\\downloaded_packages\n",
      "package 'rpart.plot' successfully unpacked and MD5 sums checked\n",
      "\n",
      "The downloaded binary packages are in\n",
      "\tC:\\Users\\Dani\\AppData\\Local\\Temp\\Rtmp02CMYn\\downloaded_packages\n",
      "package 'rattle' successfully unpacked and MD5 sums checked\n",
      "\n",
      "The downloaded binary packages are in\n",
      "\tC:\\Users\\Dani\\AppData\\Local\\Temp\\Rtmp02CMYn\\downloaded_packages\n"
     ]
    }
   ],
   "source": [
    "#***#Arvore decisão*****\n",
    "\n",
    "#install.packages('dplyr')\n",
    "install.packages('rpart')\n",
    "install.packages('rpart.plot')\n",
    "install.packages('rattle')\n",
    "include=FALSE "
   ]
  },
  {
   "cell_type": "code",
   "execution_count": 26,
   "metadata": {},
   "outputs": [
    {
     "name": "stderr",
     "output_type": "stream",
     "text": [
      "\n",
      "Attaching package: 'dplyr'\n",
      "\n",
      "The following object is masked from 'package:car':\n",
      "\n",
      "    recode\n",
      "\n",
      "The following objects are masked from 'package:stats':\n",
      "\n",
      "    filter, lag\n",
      "\n",
      "The following objects are masked from 'package:base':\n",
      "\n",
      "    intersect, setdiff, setequal, union\n",
      "\n",
      "Warning message:\n",
      "\"package 'rpart.plot' was built under R version 3.6.3\"Warning message:\n",
      "\"package 'rattle' was built under R version 3.6.3\"Loading required package: tibble\n",
      "Loading required package: bitops\n",
      "Rattle: A free graphical interface for data science with R.\n",
      "Version 5.4.0 Copyright (c) 2006-2020 Togaware Pty Ltd.\n",
      "Type 'rattle()' to shake, rattle, and roll your data.\n"
     ]
    }
   ],
   "source": [
    "library(dplyr)\n",
    "library(readr)\n",
    "library(rpart)\n",
    "library(rpart.plot)\n",
    "library(xtable)\n",
    "library(rattle)"
   ]
  },
  {
   "cell_type": "code",
   "execution_count": 27,
   "metadata": {},
   "outputs": [],
   "source": [
    "treino$Classificado <- ifelse(test=treino$Classificado == 0, yes=\"Classificado\", no=\"Desclassificado\")\n",
    "treino$Classificado <- as.factor(treino$Classificado) # Now convert to a factor\n",
    "teste$Classificado <- ifelse(test=teste$Classificado == 0, yes=\"Classificado\", no=\"Desclassificado\")\n",
    "teste$Classificado <- as.factor(teste$Classificado) # Now convert to a factor"
   ]
  },
  {
   "cell_type": "code",
   "execution_count": 28,
   "metadata": {},
   "outputs": [],
   "source": [
    "modelo_dt <- rpart(as.factor(Classificado) ~ Q006+Q024+Q027+Q003+Q001+Q004+Q002+Q010+Q008, data=treino)"
   ]
  },
  {
   "cell_type": "code",
   "execution_count": null,
   "metadata": {},
   "outputs": [],
   "source": [
    "#modelo_dt <- rpart(as.factor(Classificado) ~ ., data=treino)"
   ]
  },
  {
   "cell_type": "code",
   "execution_count": null,
   "metadata": {},
   "outputs": [],
   "source": [
    "#modelo_dt <- rpart(as.factor(Classificado) ~ Q006 + Q024 + Q027 + Q003 + Q001 + Q002 + Q008 + Q022 + Q025 + Q018 + Q023 + TP_LINGUA + Q021,data=treino) "
   ]
  },
  {
   "cell_type": "code",
   "execution_count": 29,
   "metadata": {},
   "outputs": [
    {
     "data": {
      "image/png": "[encoded data removed]",
      "text/plain": [
       "plot without title"
      ]
     },
     "metadata": {},
     "output_type": "display_data"
    }
   ],
   "source": [
    "rpart.plot(modelo_dt,type = 4,extra= \"auto\")"
   ]
  },
  {
   "cell_type": "code",
   "execution_count": 30,
   "metadata": {},
   "outputs": [
    {
     "data": {
      "text/plain": [
       "Confusion Matrix and Statistics\n",
       "\n",
       "                 Reference\n",
       "Prediction        Classificado Desclassificado\n",
       "  Classificado          247257          126358\n",
       "  Desclassificado       140929          254273\n",
       "                                               \n",
       "               Accuracy : 0.6523               \n",
       "                 95% CI : (0.6513, 0.6534)     \n",
       "    No Information Rate : 0.5049               \n",
       "    P-Value [Acc > NIR] : < 0.00000000000000022\n",
       "                                               \n",
       "                  Kappa : 0.3049               \n",
       "                                               \n",
       " Mcnemar's Test P-Value : < 0.00000000000000022\n",
       "                                               \n",
       "            Sensitivity : 0.6370               \n",
       "            Specificity : 0.6680               \n",
       "         Pos Pred Value : 0.6618               \n",
       "         Neg Pred Value : 0.6434               \n",
       "             Prevalence : 0.5049               \n",
       "         Detection Rate : 0.3216               \n",
       "   Detection Prevalence : 0.4860               \n",
       "      Balanced Accuracy : 0.6525               \n",
       "                                               \n",
       "       'Positive' Class : Classificado         \n",
       "                                               "
      ]
     },
     "metadata": {},
     "output_type": "display_data"
    }
   ],
   "source": [
    "#Probabilidade estimada - Treino\n",
    "#Calcula os valores preditos\n",
    "pred_treino = predict(modelo_dt,treino,type = \"class\")\n",
    "#treino$Classificado <- as.factor(treino$Classificado) # Now convert to a factor\n",
    "confusionMatrix(pred_treino, treino$Classificado)"
   ]
  },
  {
   "cell_type": "code",
   "execution_count": 31,
   "metadata": {},
   "outputs": [
    {
     "data": {
      "text/plain": [
       "Confusion Matrix and Statistics\n",
       "\n",
       "                 Reference\n",
       "Prediction        Classificado Desclassificado\n",
       "  Classificado          106459           54057\n",
       "  Desclassificado        60039          108939\n",
       "                                               \n",
       "               Accuracy : 0.6537               \n",
       "                 95% CI : (0.6521, 0.6553)     \n",
       "    No Information Rate : 0.5053               \n",
       "    P-Value [Acc > NIR] : < 0.00000000000000022\n",
       "                                               \n",
       "                  Kappa : 0.3076               \n",
       "                                               \n",
       " Mcnemar's Test P-Value : < 0.00000000000000022\n",
       "                                               \n",
       "            Sensitivity : 0.6394               \n",
       "            Specificity : 0.6684               \n",
       "         Pos Pred Value : 0.6632               \n",
       "         Neg Pred Value : 0.6447               \n",
       "             Prevalence : 0.5053               \n",
       "         Detection Rate : 0.3231               \n",
       "   Detection Prevalence : 0.4872               \n",
       "      Balanced Accuracy : 0.6539               \n",
       "                                               \n",
       "       'Positive' Class : Classificado         \n",
       "                                               "
      ]
     },
     "metadata": {},
     "output_type": "display_data"
    }
   ],
   "source": [
    "#Probabilidade estimada - Teste\n",
    "#Calcula os valores predito\n",
    "pred_teste = predict(modelo_dt,teste,type = \"class\")\n",
    "#teste$Classificado <- as.factor(teste$Classificado) # Now convert to a factor\n",
    "confusionMatrix(pred_teste, teste$Classificado)"
   ]
  },
  {
   "cell_type": "markdown",
   "metadata": {},
   "source": [
    "### Curva ROC - Arvore de decisão"
   ]
  },
  {
   "cell_type": "markdown",
   "metadata": {},
   "source": [
    "#### Treino"
   ]
  },
  {
   "cell_type": "code",
   "execution_count": 32,
   "metadata": {},
   "outputs": [
    {
     "name": "stderr",
     "output_type": "stream",
     "text": [
      "Setting levels: control = Classificado, case = Desclassificado\n",
      "Setting direction: controls < cases\n"
     ]
    },
    {
     "name": "stdout",
     "output_type": "stream",
     "text": [
      "Area under the curve: 0.6779\n"
     ]
    },
    {
     "name": "stderr",
     "output_type": "stream",
     "text": [
      "Setting levels: control = Classificado, case = Desclassificado\n",
      "Setting direction: controls < cases\n"
     ]
    },
    {
     "data": {
      "image/png": "[encoded data removed]",
      "text/plain": [
       "plot without title"
      ]
     },
     "metadata": {},
     "output_type": "display_data"
    }
   ],
   "source": [
    "pred_treino_prob = predict(modelo_dt,treino,type = \"prob\")\n",
    "auc_treino <- auc(treino$Classificado, pred_treino_prob[,2])\n",
    "print(auc_treino)\n",
    "plot(roc(treino$Classificado, pred_treino_prob[,2]))"
   ]
  },
  {
   "cell_type": "markdown",
   "metadata": {},
   "source": [
    "#### Teste"
   ]
  },
  {
   "cell_type": "code",
   "execution_count": 33,
   "metadata": {},
   "outputs": [
    {
     "name": "stderr",
     "output_type": "stream",
     "text": [
      "Setting levels: control = Classificado, case = Desclassificado\n",
      "Setting direction: controls < cases\n"
     ]
    },
    {
     "name": "stdout",
     "output_type": "stream",
     "text": [
      "Area under the curve: 0.6779\n"
     ]
    }
   ],
   "source": [
    "pred_teste_prob = predict(modelo_dt,teste,type = \"prob\")\n",
    "auc_teste <- auc(teste$Classificado, pred_teste_prob[,2])\n",
    "print(auc_treino)"
   ]
  },
  {
   "cell_type": "markdown",
   "metadata": {},
   "source": [
    "### Tunar Hiperparametro k-fold = 5"
   ]
  },
  {
   "cell_type": "code",
   "execution_count": null,
   "metadata": {},
   "outputs": [],
   "source": [
    "#library(caret)"
   ]
  },
  {
   "cell_type": "code",
   "execution_count": null,
   "metadata": {},
   "outputs": [],
   "source": [
    "fitControl <- trainControl(method = \"cv\",number = 5)"
   ]
  },
  {
   "cell_type": "code",
   "execution_count": null,
   "metadata": {},
   "outputs": [],
   "source": [
    "ajuste_dt <- train(as.factor(Classificado) ~ Q006+Q024+Q027+Q003+Q001+Q004+Q002+Q010+Q008, \n",
    "                     data = treino, \n",
    "                     method = \"rpart\", \n",
    "                     trControl = fitControl)"
   ]
  },
  {
   "cell_type": "code",
   "execution_count": null,
   "metadata": {},
   "outputs": [],
   "source": [
    "print(ajuste_dt)"
   ]
  },
  {
   "cell_type": "code",
   "execution_count": null,
   "metadata": {},
   "outputs": [],
   "source": []
  }
 ],
 "metadata": {
  "kernelspec": {
   "display_name": "R",
   "language": "R",
   "name": "ir"
  },
  "language_info": {
   "codemirror_mode": "r",
   "file_extension": ".r",
   "mimetype": "text/x-r-source",
   "name": "R",
   "pygments_lexer": "r",
   "version": "3.6.1"
  }
 },
 "nbformat": 4,
 "nbformat_minor": 4
}
